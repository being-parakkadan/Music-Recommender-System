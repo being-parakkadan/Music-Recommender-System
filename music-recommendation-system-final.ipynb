{
 "cells": [
  {
   "cell_type": "code",
   "execution_count": 2,
   "id": "1d14a3ff",
   "metadata": {},
   "outputs": [],
   "source": [
    "import numpy as np\n",
    "import pandas as pd\n"
   ]
  },
  {
   "cell_type": "code",
   "execution_count": 3,
   "id": "fb385c93",
   "metadata": {},
   "outputs": [],
   "source": [
    "songs = pd.read_csv('music-emotion.csv')\n",
    "songs=songs.head(7000)"
   ]
  },
  {
   "cell_type": "code",
   "execution_count": 4,
   "id": "47e8688f",
   "metadata": {},
   "outputs": [
    {
     "data": {
      "text/html": [
       "<div>\n",
       "<style scoped>\n",
       "    .dataframe tbody tr th:only-of-type {\n",
       "        vertical-align: middle;\n",
       "    }\n",
       "\n",
       "    .dataframe tbody tr th {\n",
       "        vertical-align: top;\n",
       "    }\n",
       "\n",
       "    .dataframe thead th {\n",
       "        text-align: right;\n",
       "    }\n",
       "</style>\n",
       "<table border=\"1\" class=\"dataframe\">\n",
       "  <thead>\n",
       "    <tr style=\"text-align: right;\">\n",
       "      <th></th>\n",
       "      <th>lastfm_url</th>\n",
       "      <th>track</th>\n",
       "      <th>artist</th>\n",
       "      <th>seeds</th>\n",
       "      <th>number_of_emotion_tags</th>\n",
       "      <th>valence_tags</th>\n",
       "      <th>arousal_tags</th>\n",
       "      <th>dominance_tags</th>\n",
       "      <th>mbid</th>\n",
       "      <th>spotify_id</th>\n",
       "      <th>genre</th>\n",
       "    </tr>\n",
       "  </thead>\n",
       "  <tbody>\n",
       "    <tr>\n",
       "      <th>0</th>\n",
       "      <td>https://www.last.fm/music/eminem/_/%2527till%2...</td>\n",
       "      <td>'Till I Collapse</td>\n",
       "      <td>Eminem</td>\n",
       "      <td>['aggressive']</td>\n",
       "      <td>6</td>\n",
       "      <td>4.55</td>\n",
       "      <td>5.273125</td>\n",
       "      <td>5.690625</td>\n",
       "      <td>cab93def-26c5-4fb0-bedd-26ec4c1619e1</td>\n",
       "      <td>4xkOaSrkexMciUUogZKVTS</td>\n",
       "      <td>rap</td>\n",
       "    </tr>\n",
       "  </tbody>\n",
       "</table>\n",
       "</div>"
      ],
      "text/plain": [
       "                                          lastfm_url             track  \\\n",
       "0  https://www.last.fm/music/eminem/_/%2527till%2...  'Till I Collapse   \n",
       "\n",
       "   artist           seeds  number_of_emotion_tags  valence_tags  arousal_tags  \\\n",
       "0  Eminem  ['aggressive']                       6          4.55      5.273125   \n",
       "\n",
       "   dominance_tags                                  mbid  \\\n",
       "0        5.690625  cab93def-26c5-4fb0-bedd-26ec4c1619e1   \n",
       "\n",
       "               spotify_id genre  \n",
       "0  4xkOaSrkexMciUUogZKVTS   rap  "
      ]
     },
     "execution_count": 4,
     "metadata": {},
     "output_type": "execute_result"
    }
   ],
   "source": [
    "songs.head(1)"
   ]
  },
  {
   "cell_type": "code",
   "execution_count": 5,
   "id": "bff6360c",
   "metadata": {},
   "outputs": [
    {
     "data": {
      "text/plain": [
       "0       Eminem\n",
       "1    Metallica\n",
       "2    Rick Ross\n",
       "3       M.I.A.\n",
       "4         Dope\n",
       "Name: artist, dtype: object"
      ]
     },
     "execution_count": 5,
     "metadata": {},
     "output_type": "execute_result"
    }
   ],
   "source": [
    "songs.head()['artist']\n"
   ]
  },
  {
   "cell_type": "code",
   "execution_count": 6,
   "id": "40edfdd6",
   "metadata": {
    "scrolled": true
   },
   "outputs": [
    {
     "data": {
      "text/html": [
       "<div>\n",
       "<style scoped>\n",
       "    .dataframe tbody tr th:only-of-type {\n",
       "        vertical-align: middle;\n",
       "    }\n",
       "\n",
       "    .dataframe tbody tr th {\n",
       "        vertical-align: top;\n",
       "    }\n",
       "\n",
       "    .dataframe thead th {\n",
       "        text-align: right;\n",
       "    }\n",
       "</style>\n",
       "<table border=\"1\" class=\"dataframe\">\n",
       "  <thead>\n",
       "    <tr style=\"text-align: right;\">\n",
       "      <th></th>\n",
       "      <th>lastfm_url</th>\n",
       "      <th>track</th>\n",
       "      <th>artist</th>\n",
       "      <th>seeds</th>\n",
       "      <th>number_of_emotion_tags</th>\n",
       "      <th>valence_tags</th>\n",
       "      <th>arousal_tags</th>\n",
       "      <th>dominance_tags</th>\n",
       "      <th>mbid</th>\n",
       "      <th>spotify_id</th>\n",
       "      <th>genre</th>\n",
       "    </tr>\n",
       "  </thead>\n",
       "  <tbody>\n",
       "    <tr>\n",
       "      <th>0</th>\n",
       "      <td>https://www.last.fm/music/eminem/_/%2527till%2...</td>\n",
       "      <td>'Till I Collapse</td>\n",
       "      <td>Eminem</td>\n",
       "      <td>['aggressive']</td>\n",
       "      <td>6</td>\n",
       "      <td>4.550000</td>\n",
       "      <td>5.273125</td>\n",
       "      <td>5.690625</td>\n",
       "      <td>cab93def-26c5-4fb0-bedd-26ec4c1619e1</td>\n",
       "      <td>4xkOaSrkexMciUUogZKVTS</td>\n",
       "      <td>rap</td>\n",
       "    </tr>\n",
       "    <tr>\n",
       "      <th>1</th>\n",
       "      <td>https://www.last.fm/music/metallica/_/st.%2banger</td>\n",
       "      <td>St. Anger</td>\n",
       "      <td>Metallica</td>\n",
       "      <td>['aggressive']</td>\n",
       "      <td>8</td>\n",
       "      <td>3.710000</td>\n",
       "      <td>5.833000</td>\n",
       "      <td>5.427250</td>\n",
       "      <td>727a2529-7ee8-4860-aef6-7959884895cb</td>\n",
       "      <td>3fOc9x06lKJBhz435mInlH</td>\n",
       "      <td>metal</td>\n",
       "    </tr>\n",
       "    <tr>\n",
       "      <th>2</th>\n",
       "      <td>https://www.last.fm/music/rick%2bross/_/speedi...</td>\n",
       "      <td>Speedin'</td>\n",
       "      <td>Rick Ross</td>\n",
       "      <td>['aggressive']</td>\n",
       "      <td>1</td>\n",
       "      <td>3.080000</td>\n",
       "      <td>5.870000</td>\n",
       "      <td>5.490000</td>\n",
       "      <td>NaN</td>\n",
       "      <td>3Y96xd4Ce0J47dcalLrEC8</td>\n",
       "      <td>rap</td>\n",
       "    </tr>\n",
       "    <tr>\n",
       "      <th>3</th>\n",
       "      <td>https://www.last.fm/music/m.i.a./_/bamboo%2bbanga</td>\n",
       "      <td>Bamboo Banga</td>\n",
       "      <td>M.I.A.</td>\n",
       "      <td>['aggressive', 'fun', 'sexy', 'energetic']</td>\n",
       "      <td>13</td>\n",
       "      <td>6.555071</td>\n",
       "      <td>5.537214</td>\n",
       "      <td>5.691357</td>\n",
       "      <td>99dd2c8c-e7c1-413e-8ea4-4497a00ffa18</td>\n",
       "      <td>6tqFC1DIOphJkCwrjVzPmg</td>\n",
       "      <td>hip-hop</td>\n",
       "    </tr>\n",
       "    <tr>\n",
       "      <th>4</th>\n",
       "      <td>https://www.last.fm/music/dope/_/die%2bmf%2bdie</td>\n",
       "      <td>Die MF Die</td>\n",
       "      <td>Dope</td>\n",
       "      <td>['aggressive']</td>\n",
       "      <td>7</td>\n",
       "      <td>3.771176</td>\n",
       "      <td>5.348235</td>\n",
       "      <td>5.441765</td>\n",
       "      <td>b9eb3484-5e0e-4690-ab5a-ca91937032a5</td>\n",
       "      <td>5bU4KX47KqtDKKaLM4QCzh</td>\n",
       "      <td>metal</td>\n",
       "    </tr>\n",
       "  </tbody>\n",
       "</table>\n",
       "</div>"
      ],
      "text/plain": [
       "                                          lastfm_url             track  \\\n",
       "0  https://www.last.fm/music/eminem/_/%2527till%2...  'Till I Collapse   \n",
       "1  https://www.last.fm/music/metallica/_/st.%2banger         St. Anger   \n",
       "2  https://www.last.fm/music/rick%2bross/_/speedi...          Speedin'   \n",
       "3  https://www.last.fm/music/m.i.a./_/bamboo%2bbanga      Bamboo Banga   \n",
       "4    https://www.last.fm/music/dope/_/die%2bmf%2bdie        Die MF Die   \n",
       "\n",
       "      artist                                       seeds  \\\n",
       "0     Eminem                              ['aggressive']   \n",
       "1  Metallica                              ['aggressive']   \n",
       "2  Rick Ross                              ['aggressive']   \n",
       "3     M.I.A.  ['aggressive', 'fun', 'sexy', 'energetic']   \n",
       "4       Dope                              ['aggressive']   \n",
       "\n",
       "   number_of_emotion_tags  valence_tags  arousal_tags  dominance_tags  \\\n",
       "0                       6      4.550000      5.273125        5.690625   \n",
       "1                       8      3.710000      5.833000        5.427250   \n",
       "2                       1      3.080000      5.870000        5.490000   \n",
       "3                      13      6.555071      5.537214        5.691357   \n",
       "4                       7      3.771176      5.348235        5.441765   \n",
       "\n",
       "                                   mbid              spotify_id    genre  \n",
       "0  cab93def-26c5-4fb0-bedd-26ec4c1619e1  4xkOaSrkexMciUUogZKVTS      rap  \n",
       "1  727a2529-7ee8-4860-aef6-7959884895cb  3fOc9x06lKJBhz435mInlH    metal  \n",
       "2                                   NaN  3Y96xd4Ce0J47dcalLrEC8      rap  \n",
       "3  99dd2c8c-e7c1-413e-8ea4-4497a00ffa18  6tqFC1DIOphJkCwrjVzPmg  hip-hop  \n",
       "4  b9eb3484-5e0e-4690-ab5a-ca91937032a5  5bU4KX47KqtDKKaLM4QCzh    metal  "
      ]
     },
     "execution_count": 6,
     "metadata": {},
     "output_type": "execute_result"
    }
   ],
   "source": [
    "songs.head()\n"
   ]
  },
  {
   "cell_type": "code",
   "execution_count": 7,
   "id": "7cb84c5a",
   "metadata": {},
   "outputs": [
    {
     "data": {
      "text/html": [
       "<div>\n",
       "<style scoped>\n",
       "    .dataframe tbody tr th:only-of-type {\n",
       "        vertical-align: middle;\n",
       "    }\n",
       "\n",
       "    .dataframe tbody tr th {\n",
       "        vertical-align: top;\n",
       "    }\n",
       "\n",
       "    .dataframe thead th {\n",
       "        text-align: right;\n",
       "    }\n",
       "</style>\n",
       "<table border=\"1\" class=\"dataframe\">\n",
       "  <thead>\n",
       "    <tr style=\"text-align: right;\">\n",
       "      <th></th>\n",
       "      <th>lastfm_url</th>\n",
       "      <th>track</th>\n",
       "      <th>artist</th>\n",
       "      <th>seeds</th>\n",
       "      <th>number_of_emotion_tags</th>\n",
       "      <th>valence_tags</th>\n",
       "      <th>arousal_tags</th>\n",
       "      <th>dominance_tags</th>\n",
       "      <th>mbid</th>\n",
       "      <th>spotify_id</th>\n",
       "      <th>genre</th>\n",
       "    </tr>\n",
       "  </thead>\n",
       "  <tbody>\n",
       "    <tr>\n",
       "      <th>0</th>\n",
       "      <td>https://www.last.fm/music/eminem/_/%2527till%2...</td>\n",
       "      <td>'Till I Collapse</td>\n",
       "      <td>Eminem</td>\n",
       "      <td>['aggressive']</td>\n",
       "      <td>6</td>\n",
       "      <td>4.55</td>\n",
       "      <td>5.273125</td>\n",
       "      <td>5.690625</td>\n",
       "      <td>cab93def-26c5-4fb0-bedd-26ec4c1619e1</td>\n",
       "      <td>4xkOaSrkexMciUUogZKVTS</td>\n",
       "      <td>rap</td>\n",
       "    </tr>\n",
       "  </tbody>\n",
       "</table>\n",
       "</div>"
      ],
      "text/plain": [
       "                                          lastfm_url             track  \\\n",
       "0  https://www.last.fm/music/eminem/_/%2527till%2...  'Till I Collapse   \n",
       "\n",
       "   artist           seeds  number_of_emotion_tags  valence_tags  arousal_tags  \\\n",
       "0  Eminem  ['aggressive']                       6          4.55      5.273125   \n",
       "\n",
       "   dominance_tags                                  mbid  \\\n",
       "0        5.690625  cab93def-26c5-4fb0-bedd-26ec4c1619e1   \n",
       "\n",
       "               spotify_id genre  \n",
       "0  4xkOaSrkexMciUUogZKVTS   rap  "
      ]
     },
     "execution_count": 7,
     "metadata": {},
     "output_type": "execute_result"
    }
   ],
   "source": [
    "songs.head(1)\n"
   ]
  },
  {
   "cell_type": "code",
   "execution_count": 8,
   "id": "5d95aabc",
   "metadata": {},
   "outputs": [
    {
     "data": {
      "text/plain": [
       "(7000, 11)"
      ]
     },
     "execution_count": 8,
     "metadata": {},
     "output_type": "execute_result"
    }
   ],
   "source": [
    "songs.shape"
   ]
  },
  {
   "cell_type": "code",
   "execution_count": 9,
   "id": "6b01f2c1",
   "metadata": {},
   "outputs": [
    {
     "name": "stdout",
     "output_type": "stream",
     "text": [
      "<class 'pandas.core.frame.DataFrame'>\n",
      "RangeIndex: 7000 entries, 0 to 6999\n",
      "Data columns (total 11 columns):\n",
      " #   Column                  Non-Null Count  Dtype  \n",
      "---  ------                  --------------  -----  \n",
      " 0   lastfm_url              7000 non-null   object \n",
      " 1   track                   7000 non-null   object \n",
      " 2   artist                  7000 non-null   object \n",
      " 3   seeds                   7000 non-null   object \n",
      " 4   number_of_emotion_tags  7000 non-null   int64  \n",
      " 5   valence_tags            7000 non-null   float64\n",
      " 6   arousal_tags            7000 non-null   float64\n",
      " 7   dominance_tags          7000 non-null   float64\n",
      " 8   mbid                    4636 non-null   object \n",
      " 9   spotify_id              4509 non-null   object \n",
      " 10  genre                   6655 non-null   object \n",
      "dtypes: float64(3), int64(1), object(7)\n",
      "memory usage: 601.7+ KB\n"
     ]
    }
   ],
   "source": [
    "songs.info()"
   ]
  },
  {
   "cell_type": "code",
   "execution_count": 10,
   "id": "97bc895b",
   "metadata": {},
   "outputs": [],
   "source": [
    "songs=songs[['lastfm_url','track','artist','seeds','mbid','spotify_id','genre']]"
   ]
  },
  {
   "cell_type": "code",
   "execution_count": 11,
   "id": "c9bd48d1",
   "metadata": {},
   "outputs": [
    {
     "data": {
      "text/html": [
       "<div>\n",
       "<style scoped>\n",
       "    .dataframe tbody tr th:only-of-type {\n",
       "        vertical-align: middle;\n",
       "    }\n",
       "\n",
       "    .dataframe tbody tr th {\n",
       "        vertical-align: top;\n",
       "    }\n",
       "\n",
       "    .dataframe thead th {\n",
       "        text-align: right;\n",
       "    }\n",
       "</style>\n",
       "<table border=\"1\" class=\"dataframe\">\n",
       "  <thead>\n",
       "    <tr style=\"text-align: right;\">\n",
       "      <th></th>\n",
       "      <th>lastfm_url</th>\n",
       "      <th>track</th>\n",
       "      <th>artist</th>\n",
       "      <th>seeds</th>\n",
       "      <th>mbid</th>\n",
       "      <th>spotify_id</th>\n",
       "      <th>genre</th>\n",
       "    </tr>\n",
       "  </thead>\n",
       "  <tbody>\n",
       "    <tr>\n",
       "      <th>0</th>\n",
       "      <td>https://www.last.fm/music/eminem/_/%2527till%2...</td>\n",
       "      <td>'Till I Collapse</td>\n",
       "      <td>Eminem</td>\n",
       "      <td>['aggressive']</td>\n",
       "      <td>cab93def-26c5-4fb0-bedd-26ec4c1619e1</td>\n",
       "      <td>4xkOaSrkexMciUUogZKVTS</td>\n",
       "      <td>rap</td>\n",
       "    </tr>\n",
       "    <tr>\n",
       "      <th>1</th>\n",
       "      <td>https://www.last.fm/music/metallica/_/st.%2banger</td>\n",
       "      <td>St. Anger</td>\n",
       "      <td>Metallica</td>\n",
       "      <td>['aggressive']</td>\n",
       "      <td>727a2529-7ee8-4860-aef6-7959884895cb</td>\n",
       "      <td>3fOc9x06lKJBhz435mInlH</td>\n",
       "      <td>metal</td>\n",
       "    </tr>\n",
       "    <tr>\n",
       "      <th>2</th>\n",
       "      <td>https://www.last.fm/music/rick%2bross/_/speedi...</td>\n",
       "      <td>Speedin'</td>\n",
       "      <td>Rick Ross</td>\n",
       "      <td>['aggressive']</td>\n",
       "      <td>NaN</td>\n",
       "      <td>3Y96xd4Ce0J47dcalLrEC8</td>\n",
       "      <td>rap</td>\n",
       "    </tr>\n",
       "    <tr>\n",
       "      <th>3</th>\n",
       "      <td>https://www.last.fm/music/m.i.a./_/bamboo%2bbanga</td>\n",
       "      <td>Bamboo Banga</td>\n",
       "      <td>M.I.A.</td>\n",
       "      <td>['aggressive', 'fun', 'sexy', 'energetic']</td>\n",
       "      <td>99dd2c8c-e7c1-413e-8ea4-4497a00ffa18</td>\n",
       "      <td>6tqFC1DIOphJkCwrjVzPmg</td>\n",
       "      <td>hip-hop</td>\n",
       "    </tr>\n",
       "    <tr>\n",
       "      <th>4</th>\n",
       "      <td>https://www.last.fm/music/dope/_/die%2bmf%2bdie</td>\n",
       "      <td>Die MF Die</td>\n",
       "      <td>Dope</td>\n",
       "      <td>['aggressive']</td>\n",
       "      <td>b9eb3484-5e0e-4690-ab5a-ca91937032a5</td>\n",
       "      <td>5bU4KX47KqtDKKaLM4QCzh</td>\n",
       "      <td>metal</td>\n",
       "    </tr>\n",
       "  </tbody>\n",
       "</table>\n",
       "</div>"
      ],
      "text/plain": [
       "                                          lastfm_url             track  \\\n",
       "0  https://www.last.fm/music/eminem/_/%2527till%2...  'Till I Collapse   \n",
       "1  https://www.last.fm/music/metallica/_/st.%2banger         St. Anger   \n",
       "2  https://www.last.fm/music/rick%2bross/_/speedi...          Speedin'   \n",
       "3  https://www.last.fm/music/m.i.a./_/bamboo%2bbanga      Bamboo Banga   \n",
       "4    https://www.last.fm/music/dope/_/die%2bmf%2bdie        Die MF Die   \n",
       "\n",
       "      artist                                       seeds  \\\n",
       "0     Eminem                              ['aggressive']   \n",
       "1  Metallica                              ['aggressive']   \n",
       "2  Rick Ross                              ['aggressive']   \n",
       "3     M.I.A.  ['aggressive', 'fun', 'sexy', 'energetic']   \n",
       "4       Dope                              ['aggressive']   \n",
       "\n",
       "                                   mbid              spotify_id    genre  \n",
       "0  cab93def-26c5-4fb0-bedd-26ec4c1619e1  4xkOaSrkexMciUUogZKVTS      rap  \n",
       "1  727a2529-7ee8-4860-aef6-7959884895cb  3fOc9x06lKJBhz435mInlH    metal  \n",
       "2                                   NaN  3Y96xd4Ce0J47dcalLrEC8      rap  \n",
       "3  99dd2c8c-e7c1-413e-8ea4-4497a00ffa18  6tqFC1DIOphJkCwrjVzPmg  hip-hop  \n",
       "4  b9eb3484-5e0e-4690-ab5a-ca91937032a5  5bU4KX47KqtDKKaLM4QCzh    metal  "
      ]
     },
     "execution_count": 11,
     "metadata": {},
     "output_type": "execute_result"
    }
   ],
   "source": [
    "songs.head()"
   ]
  },
  {
   "cell_type": "code",
   "execution_count": 12,
   "id": "b2d41e35",
   "metadata": {},
   "outputs": [
    {
     "data": {
      "text/plain": [
       "lastfm_url       0\n",
       "track            0\n",
       "artist           0\n",
       "seeds            0\n",
       "mbid          2364\n",
       "spotify_id    2491\n",
       "genre          345\n",
       "dtype: int64"
      ]
     },
     "execution_count": 12,
     "metadata": {},
     "output_type": "execute_result"
    }
   ],
   "source": [
    "songs.isnull().sum()"
   ]
  },
  {
   "cell_type": "code",
   "execution_count": 13,
   "id": "1cab57f6",
   "metadata": {
    "scrolled": true
   },
   "outputs": [],
   "source": [
    "songs.dropna(inplace=True)\n",
    "#remove null set"
   ]
  },
  {
   "cell_type": "code",
   "execution_count": 14,
   "id": "041bfda3",
   "metadata": {},
   "outputs": [
    {
     "data": {
      "text/plain": [
       "lastfm_url    0\n",
       "track         0\n",
       "artist        0\n",
       "seeds         0\n",
       "mbid          0\n",
       "spotify_id    0\n",
       "genre         0\n",
       "dtype: int64"
      ]
     },
     "execution_count": 14,
     "metadata": {},
     "output_type": "execute_result"
    }
   ],
   "source": [
    "songs.isnull().sum()"
   ]
  },
  {
   "cell_type": "code",
   "execution_count": 15,
   "id": "d64bd8b6",
   "metadata": {},
   "outputs": [
    {
     "data": {
      "text/plain": [
       "0"
      ]
     },
     "execution_count": 15,
     "metadata": {},
     "output_type": "execute_result"
    }
   ],
   "source": [
    "songs.duplicated().sum()"
   ]
  },
  {
   "cell_type": "code",
   "execution_count": 16,
   "id": "5245b407",
   "metadata": {},
   "outputs": [
    {
     "data": {
      "text/plain": [
       "\"['aggressive']\""
      ]
     },
     "execution_count": 16,
     "metadata": {},
     "output_type": "execute_result"
    }
   ],
   "source": [
    "songs.iloc[3].seeds"
   ]
  },
  {
   "cell_type": "code",
   "execution_count": 17,
   "id": "304c70de",
   "metadata": {},
   "outputs": [
    {
     "data": {
      "text/html": [
       "<div>\n",
       "<style scoped>\n",
       "    .dataframe tbody tr th:only-of-type {\n",
       "        vertical-align: middle;\n",
       "    }\n",
       "\n",
       "    .dataframe tbody tr th {\n",
       "        vertical-align: top;\n",
       "    }\n",
       "\n",
       "    .dataframe thead th {\n",
       "        text-align: right;\n",
       "    }\n",
       "</style>\n",
       "<table border=\"1\" class=\"dataframe\">\n",
       "  <thead>\n",
       "    <tr style=\"text-align: right;\">\n",
       "      <th></th>\n",
       "      <th>lastfm_url</th>\n",
       "      <th>track</th>\n",
       "      <th>artist</th>\n",
       "      <th>seeds</th>\n",
       "      <th>mbid</th>\n",
       "      <th>spotify_id</th>\n",
       "      <th>genre</th>\n",
       "    </tr>\n",
       "  </thead>\n",
       "  <tbody>\n",
       "    <tr>\n",
       "      <th>0</th>\n",
       "      <td>https://www.last.fm/music/eminem/_/%2527till%2...</td>\n",
       "      <td>'Till I Collapse</td>\n",
       "      <td>Eminem</td>\n",
       "      <td>['aggressive']</td>\n",
       "      <td>cab93def-26c5-4fb0-bedd-26ec4c1619e1</td>\n",
       "      <td>4xkOaSrkexMciUUogZKVTS</td>\n",
       "      <td>rap</td>\n",
       "    </tr>\n",
       "    <tr>\n",
       "      <th>1</th>\n",
       "      <td>https://www.last.fm/music/metallica/_/st.%2banger</td>\n",
       "      <td>St. Anger</td>\n",
       "      <td>Metallica</td>\n",
       "      <td>['aggressive']</td>\n",
       "      <td>727a2529-7ee8-4860-aef6-7959884895cb</td>\n",
       "      <td>3fOc9x06lKJBhz435mInlH</td>\n",
       "      <td>metal</td>\n",
       "    </tr>\n",
       "    <tr>\n",
       "      <th>3</th>\n",
       "      <td>https://www.last.fm/music/m.i.a./_/bamboo%2bbanga</td>\n",
       "      <td>Bamboo Banga</td>\n",
       "      <td>M.I.A.</td>\n",
       "      <td>['aggressive', 'fun', 'sexy', 'energetic']</td>\n",
       "      <td>99dd2c8c-e7c1-413e-8ea4-4497a00ffa18</td>\n",
       "      <td>6tqFC1DIOphJkCwrjVzPmg</td>\n",
       "      <td>hip-hop</td>\n",
       "    </tr>\n",
       "    <tr>\n",
       "      <th>4</th>\n",
       "      <td>https://www.last.fm/music/dope/_/die%2bmf%2bdie</td>\n",
       "      <td>Die MF Die</td>\n",
       "      <td>Dope</td>\n",
       "      <td>['aggressive']</td>\n",
       "      <td>b9eb3484-5e0e-4690-ab5a-ca91937032a5</td>\n",
       "      <td>5bU4KX47KqtDKKaLM4QCzh</td>\n",
       "      <td>metal</td>\n",
       "    </tr>\n",
       "    <tr>\n",
       "      <th>5</th>\n",
       "      <td>https://www.last.fm/music/drowning%2bpool/_/st...</td>\n",
       "      <td>Step Up</td>\n",
       "      <td>Drowning Pool</td>\n",
       "      <td>['aggressive']</td>\n",
       "      <td>49e7b4d2-3772-4301-ba25-3cc46ceb342e</td>\n",
       "      <td>4Q1w4Ryyi8KNxxaFlOQClK</td>\n",
       "      <td>metal</td>\n",
       "    </tr>\n",
       "  </tbody>\n",
       "</table>\n",
       "</div>"
      ],
      "text/plain": [
       "                                          lastfm_url             track  \\\n",
       "0  https://www.last.fm/music/eminem/_/%2527till%2...  'Till I Collapse   \n",
       "1  https://www.last.fm/music/metallica/_/st.%2banger         St. Anger   \n",
       "3  https://www.last.fm/music/m.i.a./_/bamboo%2bbanga      Bamboo Banga   \n",
       "4    https://www.last.fm/music/dope/_/die%2bmf%2bdie        Die MF Die   \n",
       "5  https://www.last.fm/music/drowning%2bpool/_/st...           Step Up   \n",
       "\n",
       "          artist                                       seeds  \\\n",
       "0         Eminem                              ['aggressive']   \n",
       "1      Metallica                              ['aggressive']   \n",
       "3         M.I.A.  ['aggressive', 'fun', 'sexy', 'energetic']   \n",
       "4           Dope                              ['aggressive']   \n",
       "5  Drowning Pool                              ['aggressive']   \n",
       "\n",
       "                                   mbid              spotify_id    genre  \n",
       "0  cab93def-26c5-4fb0-bedd-26ec4c1619e1  4xkOaSrkexMciUUogZKVTS      rap  \n",
       "1  727a2529-7ee8-4860-aef6-7959884895cb  3fOc9x06lKJBhz435mInlH    metal  \n",
       "3  99dd2c8c-e7c1-413e-8ea4-4497a00ffa18  6tqFC1DIOphJkCwrjVzPmg  hip-hop  \n",
       "4  b9eb3484-5e0e-4690-ab5a-ca91937032a5  5bU4KX47KqtDKKaLM4QCzh    metal  \n",
       "5  49e7b4d2-3772-4301-ba25-3cc46ceb342e  4Q1w4Ryyi8KNxxaFlOQClK    metal  "
      ]
     },
     "execution_count": 17,
     "metadata": {},
     "output_type": "execute_result"
    }
   ],
   "source": [
    "songs.head()\n"
   ]
  },
  {
   "cell_type": "code",
   "execution_count": 18,
   "id": "8565900e",
   "metadata": {},
   "outputs": [],
   "source": [
    "#remove the ' from seeds list\n",
    "import ast\n",
    "\n",
    "def remove_square_brackets(string):\n",
    "    words = ast.literal_eval(string)\n",
    "    return words\n",
    "\n",
    "songs['seeds'] = songs['seeds'].apply(remove_square_brackets)"
   ]
  },
  {
   "cell_type": "code",
   "execution_count": 19,
   "id": "e4e5809f",
   "metadata": {},
   "outputs": [
    {
     "data": {
      "text/html": [
       "<div>\n",
       "<style scoped>\n",
       "    .dataframe tbody tr th:only-of-type {\n",
       "        vertical-align: middle;\n",
       "    }\n",
       "\n",
       "    .dataframe tbody tr th {\n",
       "        vertical-align: top;\n",
       "    }\n",
       "\n",
       "    .dataframe thead th {\n",
       "        text-align: right;\n",
       "    }\n",
       "</style>\n",
       "<table border=\"1\" class=\"dataframe\">\n",
       "  <thead>\n",
       "    <tr style=\"text-align: right;\">\n",
       "      <th></th>\n",
       "      <th>lastfm_url</th>\n",
       "      <th>track</th>\n",
       "      <th>artist</th>\n",
       "      <th>seeds</th>\n",
       "      <th>mbid</th>\n",
       "      <th>spotify_id</th>\n",
       "      <th>genre</th>\n",
       "    </tr>\n",
       "  </thead>\n",
       "  <tbody>\n",
       "    <tr>\n",
       "      <th>0</th>\n",
       "      <td>https://www.last.fm/music/eminem/_/%2527till%2...</td>\n",
       "      <td>'Till I Collapse</td>\n",
       "      <td>Eminem</td>\n",
       "      <td>[aggressive]</td>\n",
       "      <td>cab93def-26c5-4fb0-bedd-26ec4c1619e1</td>\n",
       "      <td>4xkOaSrkexMciUUogZKVTS</td>\n",
       "      <td>rap</td>\n",
       "    </tr>\n",
       "    <tr>\n",
       "      <th>1</th>\n",
       "      <td>https://www.last.fm/music/metallica/_/st.%2banger</td>\n",
       "      <td>St. Anger</td>\n",
       "      <td>Metallica</td>\n",
       "      <td>[aggressive]</td>\n",
       "      <td>727a2529-7ee8-4860-aef6-7959884895cb</td>\n",
       "      <td>3fOc9x06lKJBhz435mInlH</td>\n",
       "      <td>metal</td>\n",
       "    </tr>\n",
       "    <tr>\n",
       "      <th>3</th>\n",
       "      <td>https://www.last.fm/music/m.i.a./_/bamboo%2bbanga</td>\n",
       "      <td>Bamboo Banga</td>\n",
       "      <td>M.I.A.</td>\n",
       "      <td>[aggressive, fun, sexy, energetic]</td>\n",
       "      <td>99dd2c8c-e7c1-413e-8ea4-4497a00ffa18</td>\n",
       "      <td>6tqFC1DIOphJkCwrjVzPmg</td>\n",
       "      <td>hip-hop</td>\n",
       "    </tr>\n",
       "    <tr>\n",
       "      <th>4</th>\n",
       "      <td>https://www.last.fm/music/dope/_/die%2bmf%2bdie</td>\n",
       "      <td>Die MF Die</td>\n",
       "      <td>Dope</td>\n",
       "      <td>[aggressive]</td>\n",
       "      <td>b9eb3484-5e0e-4690-ab5a-ca91937032a5</td>\n",
       "      <td>5bU4KX47KqtDKKaLM4QCzh</td>\n",
       "      <td>metal</td>\n",
       "    </tr>\n",
       "    <tr>\n",
       "      <th>5</th>\n",
       "      <td>https://www.last.fm/music/drowning%2bpool/_/st...</td>\n",
       "      <td>Step Up</td>\n",
       "      <td>Drowning Pool</td>\n",
       "      <td>[aggressive]</td>\n",
       "      <td>49e7b4d2-3772-4301-ba25-3cc46ceb342e</td>\n",
       "      <td>4Q1w4Ryyi8KNxxaFlOQClK</td>\n",
       "      <td>metal</td>\n",
       "    </tr>\n",
       "  </tbody>\n",
       "</table>\n",
       "</div>"
      ],
      "text/plain": [
       "                                          lastfm_url             track  \\\n",
       "0  https://www.last.fm/music/eminem/_/%2527till%2...  'Till I Collapse   \n",
       "1  https://www.last.fm/music/metallica/_/st.%2banger         St. Anger   \n",
       "3  https://www.last.fm/music/m.i.a./_/bamboo%2bbanga      Bamboo Banga   \n",
       "4    https://www.last.fm/music/dope/_/die%2bmf%2bdie        Die MF Die   \n",
       "5  https://www.last.fm/music/drowning%2bpool/_/st...           Step Up   \n",
       "\n",
       "          artist                               seeds  \\\n",
       "0         Eminem                        [aggressive]   \n",
       "1      Metallica                        [aggressive]   \n",
       "3         M.I.A.  [aggressive, fun, sexy, energetic]   \n",
       "4           Dope                        [aggressive]   \n",
       "5  Drowning Pool                        [aggressive]   \n",
       "\n",
       "                                   mbid              spotify_id    genre  \n",
       "0  cab93def-26c5-4fb0-bedd-26ec4c1619e1  4xkOaSrkexMciUUogZKVTS      rap  \n",
       "1  727a2529-7ee8-4860-aef6-7959884895cb  3fOc9x06lKJBhz435mInlH    metal  \n",
       "3  99dd2c8c-e7c1-413e-8ea4-4497a00ffa18  6tqFC1DIOphJkCwrjVzPmg  hip-hop  \n",
       "4  b9eb3484-5e0e-4690-ab5a-ca91937032a5  5bU4KX47KqtDKKaLM4QCzh    metal  \n",
       "5  49e7b4d2-3772-4301-ba25-3cc46ceb342e  4Q1w4Ryyi8KNxxaFlOQClK    metal  "
      ]
     },
     "execution_count": 19,
     "metadata": {},
     "output_type": "execute_result"
    }
   ],
   "source": [
    "songs.head()"
   ]
  },
  {
   "cell_type": "code",
   "execution_count": 20,
   "id": "b3e58095",
   "metadata": {},
   "outputs": [],
   "source": [
    "#converting the column genre to list\n",
    "def convert_to_list(string):\n",
    "    genres = string.split(',')  # Split the string by comma\n",
    "    genres = [genre.strip() for genre in genres]  # Remove whitespace around each genre\n",
    "    return genres\n",
    "\n",
    "# Apply the function to the 'genre' column\n",
    "songs['genre'] = songs['genre'].apply(convert_to_list)\n"
   ]
  },
  {
   "cell_type": "code",
   "execution_count": 21,
   "id": "7bf7f523",
   "metadata": {},
   "outputs": [
    {
     "data": {
      "text/html": [
       "<div>\n",
       "<style scoped>\n",
       "    .dataframe tbody tr th:only-of-type {\n",
       "        vertical-align: middle;\n",
       "    }\n",
       "\n",
       "    .dataframe tbody tr th {\n",
       "        vertical-align: top;\n",
       "    }\n",
       "\n",
       "    .dataframe thead th {\n",
       "        text-align: right;\n",
       "    }\n",
       "</style>\n",
       "<table border=\"1\" class=\"dataframe\">\n",
       "  <thead>\n",
       "    <tr style=\"text-align: right;\">\n",
       "      <th></th>\n",
       "      <th>lastfm_url</th>\n",
       "      <th>track</th>\n",
       "      <th>artist</th>\n",
       "      <th>seeds</th>\n",
       "      <th>mbid</th>\n",
       "      <th>spotify_id</th>\n",
       "      <th>genre</th>\n",
       "    </tr>\n",
       "  </thead>\n",
       "  <tbody>\n",
       "    <tr>\n",
       "      <th>0</th>\n",
       "      <td>https://www.last.fm/music/eminem/_/%2527till%2...</td>\n",
       "      <td>'Till I Collapse</td>\n",
       "      <td>Eminem</td>\n",
       "      <td>[aggressive]</td>\n",
       "      <td>cab93def-26c5-4fb0-bedd-26ec4c1619e1</td>\n",
       "      <td>4xkOaSrkexMciUUogZKVTS</td>\n",
       "      <td>[rap]</td>\n",
       "    </tr>\n",
       "    <tr>\n",
       "      <th>1</th>\n",
       "      <td>https://www.last.fm/music/metallica/_/st.%2banger</td>\n",
       "      <td>St. Anger</td>\n",
       "      <td>Metallica</td>\n",
       "      <td>[aggressive]</td>\n",
       "      <td>727a2529-7ee8-4860-aef6-7959884895cb</td>\n",
       "      <td>3fOc9x06lKJBhz435mInlH</td>\n",
       "      <td>[metal]</td>\n",
       "    </tr>\n",
       "    <tr>\n",
       "      <th>3</th>\n",
       "      <td>https://www.last.fm/music/m.i.a./_/bamboo%2bbanga</td>\n",
       "      <td>Bamboo Banga</td>\n",
       "      <td>M.I.A.</td>\n",
       "      <td>[aggressive, fun, sexy, energetic]</td>\n",
       "      <td>99dd2c8c-e7c1-413e-8ea4-4497a00ffa18</td>\n",
       "      <td>6tqFC1DIOphJkCwrjVzPmg</td>\n",
       "      <td>[hip-hop]</td>\n",
       "    </tr>\n",
       "    <tr>\n",
       "      <th>4</th>\n",
       "      <td>https://www.last.fm/music/dope/_/die%2bmf%2bdie</td>\n",
       "      <td>Die MF Die</td>\n",
       "      <td>Dope</td>\n",
       "      <td>[aggressive]</td>\n",
       "      <td>b9eb3484-5e0e-4690-ab5a-ca91937032a5</td>\n",
       "      <td>5bU4KX47KqtDKKaLM4QCzh</td>\n",
       "      <td>[metal]</td>\n",
       "    </tr>\n",
       "    <tr>\n",
       "      <th>5</th>\n",
       "      <td>https://www.last.fm/music/drowning%2bpool/_/st...</td>\n",
       "      <td>Step Up</td>\n",
       "      <td>Drowning Pool</td>\n",
       "      <td>[aggressive]</td>\n",
       "      <td>49e7b4d2-3772-4301-ba25-3cc46ceb342e</td>\n",
       "      <td>4Q1w4Ryyi8KNxxaFlOQClK</td>\n",
       "      <td>[metal]</td>\n",
       "    </tr>\n",
       "  </tbody>\n",
       "</table>\n",
       "</div>"
      ],
      "text/plain": [
       "                                          lastfm_url             track  \\\n",
       "0  https://www.last.fm/music/eminem/_/%2527till%2...  'Till I Collapse   \n",
       "1  https://www.last.fm/music/metallica/_/st.%2banger         St. Anger   \n",
       "3  https://www.last.fm/music/m.i.a./_/bamboo%2bbanga      Bamboo Banga   \n",
       "4    https://www.last.fm/music/dope/_/die%2bmf%2bdie        Die MF Die   \n",
       "5  https://www.last.fm/music/drowning%2bpool/_/st...           Step Up   \n",
       "\n",
       "          artist                               seeds  \\\n",
       "0         Eminem                        [aggressive]   \n",
       "1      Metallica                        [aggressive]   \n",
       "3         M.I.A.  [aggressive, fun, sexy, energetic]   \n",
       "4           Dope                        [aggressive]   \n",
       "5  Drowning Pool                        [aggressive]   \n",
       "\n",
       "                                   mbid              spotify_id      genre  \n",
       "0  cab93def-26c5-4fb0-bedd-26ec4c1619e1  4xkOaSrkexMciUUogZKVTS      [rap]  \n",
       "1  727a2529-7ee8-4860-aef6-7959884895cb  3fOc9x06lKJBhz435mInlH    [metal]  \n",
       "3  99dd2c8c-e7c1-413e-8ea4-4497a00ffa18  6tqFC1DIOphJkCwrjVzPmg  [hip-hop]  \n",
       "4  b9eb3484-5e0e-4690-ab5a-ca91937032a5  5bU4KX47KqtDKKaLM4QCzh    [metal]  \n",
       "5  49e7b4d2-3772-4301-ba25-3cc46ceb342e  4Q1w4Ryyi8KNxxaFlOQClK    [metal]  "
      ]
     },
     "execution_count": 21,
     "metadata": {},
     "output_type": "execute_result"
    }
   ],
   "source": [
    "songs.head()"
   ]
  },
  {
   "cell_type": "code",
   "execution_count": 22,
   "id": "bc3585b7",
   "metadata": {},
   "outputs": [],
   "source": [
    "# Apply the function to the 'artist' column\n",
    "songs['artist'] = songs['artist'].apply(convert_to_list)"
   ]
  },
  {
   "cell_type": "code",
   "execution_count": 23,
   "id": "5b7884ed",
   "metadata": {},
   "outputs": [
    {
     "data": {
      "text/html": [
       "<div>\n",
       "<style scoped>\n",
       "    .dataframe tbody tr th:only-of-type {\n",
       "        vertical-align: middle;\n",
       "    }\n",
       "\n",
       "    .dataframe tbody tr th {\n",
       "        vertical-align: top;\n",
       "    }\n",
       "\n",
       "    .dataframe thead th {\n",
       "        text-align: right;\n",
       "    }\n",
       "</style>\n",
       "<table border=\"1\" class=\"dataframe\">\n",
       "  <thead>\n",
       "    <tr style=\"text-align: right;\">\n",
       "      <th></th>\n",
       "      <th>lastfm_url</th>\n",
       "      <th>track</th>\n",
       "      <th>artist</th>\n",
       "      <th>seeds</th>\n",
       "      <th>mbid</th>\n",
       "      <th>spotify_id</th>\n",
       "      <th>genre</th>\n",
       "    </tr>\n",
       "  </thead>\n",
       "  <tbody>\n",
       "    <tr>\n",
       "      <th>0</th>\n",
       "      <td>https://www.last.fm/music/eminem/_/%2527till%2...</td>\n",
       "      <td>'Till I Collapse</td>\n",
       "      <td>[Eminem]</td>\n",
       "      <td>[aggressive]</td>\n",
       "      <td>cab93def-26c5-4fb0-bedd-26ec4c1619e1</td>\n",
       "      <td>4xkOaSrkexMciUUogZKVTS</td>\n",
       "      <td>[rap]</td>\n",
       "    </tr>\n",
       "    <tr>\n",
       "      <th>1</th>\n",
       "      <td>https://www.last.fm/music/metallica/_/st.%2banger</td>\n",
       "      <td>St. Anger</td>\n",
       "      <td>[Metallica]</td>\n",
       "      <td>[aggressive]</td>\n",
       "      <td>727a2529-7ee8-4860-aef6-7959884895cb</td>\n",
       "      <td>3fOc9x06lKJBhz435mInlH</td>\n",
       "      <td>[metal]</td>\n",
       "    </tr>\n",
       "    <tr>\n",
       "      <th>3</th>\n",
       "      <td>https://www.last.fm/music/m.i.a./_/bamboo%2bbanga</td>\n",
       "      <td>Bamboo Banga</td>\n",
       "      <td>[M.I.A.]</td>\n",
       "      <td>[aggressive, fun, sexy, energetic]</td>\n",
       "      <td>99dd2c8c-e7c1-413e-8ea4-4497a00ffa18</td>\n",
       "      <td>6tqFC1DIOphJkCwrjVzPmg</td>\n",
       "      <td>[hip-hop]</td>\n",
       "    </tr>\n",
       "    <tr>\n",
       "      <th>4</th>\n",
       "      <td>https://www.last.fm/music/dope/_/die%2bmf%2bdie</td>\n",
       "      <td>Die MF Die</td>\n",
       "      <td>[Dope]</td>\n",
       "      <td>[aggressive]</td>\n",
       "      <td>b9eb3484-5e0e-4690-ab5a-ca91937032a5</td>\n",
       "      <td>5bU4KX47KqtDKKaLM4QCzh</td>\n",
       "      <td>[metal]</td>\n",
       "    </tr>\n",
       "    <tr>\n",
       "      <th>5</th>\n",
       "      <td>https://www.last.fm/music/drowning%2bpool/_/st...</td>\n",
       "      <td>Step Up</td>\n",
       "      <td>[Drowning Pool]</td>\n",
       "      <td>[aggressive]</td>\n",
       "      <td>49e7b4d2-3772-4301-ba25-3cc46ceb342e</td>\n",
       "      <td>4Q1w4Ryyi8KNxxaFlOQClK</td>\n",
       "      <td>[metal]</td>\n",
       "    </tr>\n",
       "  </tbody>\n",
       "</table>\n",
       "</div>"
      ],
      "text/plain": [
       "                                          lastfm_url             track  \\\n",
       "0  https://www.last.fm/music/eminem/_/%2527till%2...  'Till I Collapse   \n",
       "1  https://www.last.fm/music/metallica/_/st.%2banger         St. Anger   \n",
       "3  https://www.last.fm/music/m.i.a./_/bamboo%2bbanga      Bamboo Banga   \n",
       "4    https://www.last.fm/music/dope/_/die%2bmf%2bdie        Die MF Die   \n",
       "5  https://www.last.fm/music/drowning%2bpool/_/st...           Step Up   \n",
       "\n",
       "            artist                               seeds  \\\n",
       "0         [Eminem]                        [aggressive]   \n",
       "1      [Metallica]                        [aggressive]   \n",
       "3         [M.I.A.]  [aggressive, fun, sexy, energetic]   \n",
       "4           [Dope]                        [aggressive]   \n",
       "5  [Drowning Pool]                        [aggressive]   \n",
       "\n",
       "                                   mbid              spotify_id      genre  \n",
       "0  cab93def-26c5-4fb0-bedd-26ec4c1619e1  4xkOaSrkexMciUUogZKVTS      [rap]  \n",
       "1  727a2529-7ee8-4860-aef6-7959884895cb  3fOc9x06lKJBhz435mInlH    [metal]  \n",
       "3  99dd2c8c-e7c1-413e-8ea4-4497a00ffa18  6tqFC1DIOphJkCwrjVzPmg  [hip-hop]  \n",
       "4  b9eb3484-5e0e-4690-ab5a-ca91937032a5  5bU4KX47KqtDKKaLM4QCzh    [metal]  \n",
       "5  49e7b4d2-3772-4301-ba25-3cc46ceb342e  4Q1w4Ryyi8KNxxaFlOQClK    [metal]  "
      ]
     },
     "execution_count": 23,
     "metadata": {},
     "output_type": "execute_result"
    }
   ],
   "source": [
    "songs.head()"
   ]
  },
  {
   "cell_type": "code",
   "execution_count": 24,
   "id": "3f889b21",
   "metadata": {},
   "outputs": [],
   "source": [
    "#removing the whitespaces\n",
    "songs['artist']=songs['artist'].apply(lambda x:[i.replace(\" \",\"\") for i in x])\n",
    "songs['genre']=songs['genre'].apply(lambda x:[i.replace(\" \",\"\") for i in x])"
   ]
  },
  {
   "cell_type": "code",
   "execution_count": 25,
   "id": "66ebfde1",
   "metadata": {},
   "outputs": [
    {
     "data": {
      "text/html": [
       "<div>\n",
       "<style scoped>\n",
       "    .dataframe tbody tr th:only-of-type {\n",
       "        vertical-align: middle;\n",
       "    }\n",
       "\n",
       "    .dataframe tbody tr th {\n",
       "        vertical-align: top;\n",
       "    }\n",
       "\n",
       "    .dataframe thead th {\n",
       "        text-align: right;\n",
       "    }\n",
       "</style>\n",
       "<table border=\"1\" class=\"dataframe\">\n",
       "  <thead>\n",
       "    <tr style=\"text-align: right;\">\n",
       "      <th></th>\n",
       "      <th>lastfm_url</th>\n",
       "      <th>track</th>\n",
       "      <th>artist</th>\n",
       "      <th>seeds</th>\n",
       "      <th>mbid</th>\n",
       "      <th>spotify_id</th>\n",
       "      <th>genre</th>\n",
       "    </tr>\n",
       "  </thead>\n",
       "  <tbody>\n",
       "    <tr>\n",
       "      <th>0</th>\n",
       "      <td>https://www.last.fm/music/eminem/_/%2527till%2...</td>\n",
       "      <td>'Till I Collapse</td>\n",
       "      <td>[Eminem]</td>\n",
       "      <td>[aggressive]</td>\n",
       "      <td>cab93def-26c5-4fb0-bedd-26ec4c1619e1</td>\n",
       "      <td>4xkOaSrkexMciUUogZKVTS</td>\n",
       "      <td>[rap]</td>\n",
       "    </tr>\n",
       "    <tr>\n",
       "      <th>1</th>\n",
       "      <td>https://www.last.fm/music/metallica/_/st.%2banger</td>\n",
       "      <td>St. Anger</td>\n",
       "      <td>[Metallica]</td>\n",
       "      <td>[aggressive]</td>\n",
       "      <td>727a2529-7ee8-4860-aef6-7959884895cb</td>\n",
       "      <td>3fOc9x06lKJBhz435mInlH</td>\n",
       "      <td>[metal]</td>\n",
       "    </tr>\n",
       "    <tr>\n",
       "      <th>3</th>\n",
       "      <td>https://www.last.fm/music/m.i.a./_/bamboo%2bbanga</td>\n",
       "      <td>Bamboo Banga</td>\n",
       "      <td>[M.I.A.]</td>\n",
       "      <td>[aggressive, fun, sexy, energetic]</td>\n",
       "      <td>99dd2c8c-e7c1-413e-8ea4-4497a00ffa18</td>\n",
       "      <td>6tqFC1DIOphJkCwrjVzPmg</td>\n",
       "      <td>[hip-hop]</td>\n",
       "    </tr>\n",
       "    <tr>\n",
       "      <th>4</th>\n",
       "      <td>https://www.last.fm/music/dope/_/die%2bmf%2bdie</td>\n",
       "      <td>Die MF Die</td>\n",
       "      <td>[Dope]</td>\n",
       "      <td>[aggressive]</td>\n",
       "      <td>b9eb3484-5e0e-4690-ab5a-ca91937032a5</td>\n",
       "      <td>5bU4KX47KqtDKKaLM4QCzh</td>\n",
       "      <td>[metal]</td>\n",
       "    </tr>\n",
       "    <tr>\n",
       "      <th>5</th>\n",
       "      <td>https://www.last.fm/music/drowning%2bpool/_/st...</td>\n",
       "      <td>Step Up</td>\n",
       "      <td>[DrowningPool]</td>\n",
       "      <td>[aggressive]</td>\n",
       "      <td>49e7b4d2-3772-4301-ba25-3cc46ceb342e</td>\n",
       "      <td>4Q1w4Ryyi8KNxxaFlOQClK</td>\n",
       "      <td>[metal]</td>\n",
       "    </tr>\n",
       "  </tbody>\n",
       "</table>\n",
       "</div>"
      ],
      "text/plain": [
       "                                          lastfm_url             track  \\\n",
       "0  https://www.last.fm/music/eminem/_/%2527till%2...  'Till I Collapse   \n",
       "1  https://www.last.fm/music/metallica/_/st.%2banger         St. Anger   \n",
       "3  https://www.last.fm/music/m.i.a./_/bamboo%2bbanga      Bamboo Banga   \n",
       "4    https://www.last.fm/music/dope/_/die%2bmf%2bdie        Die MF Die   \n",
       "5  https://www.last.fm/music/drowning%2bpool/_/st...           Step Up   \n",
       "\n",
       "           artist                               seeds  \\\n",
       "0        [Eminem]                        [aggressive]   \n",
       "1     [Metallica]                        [aggressive]   \n",
       "3        [M.I.A.]  [aggressive, fun, sexy, energetic]   \n",
       "4          [Dope]                        [aggressive]   \n",
       "5  [DrowningPool]                        [aggressive]   \n",
       "\n",
       "                                   mbid              spotify_id      genre  \n",
       "0  cab93def-26c5-4fb0-bedd-26ec4c1619e1  4xkOaSrkexMciUUogZKVTS      [rap]  \n",
       "1  727a2529-7ee8-4860-aef6-7959884895cb  3fOc9x06lKJBhz435mInlH    [metal]  \n",
       "3  99dd2c8c-e7c1-413e-8ea4-4497a00ffa18  6tqFC1DIOphJkCwrjVzPmg  [hip-hop]  \n",
       "4  b9eb3484-5e0e-4690-ab5a-ca91937032a5  5bU4KX47KqtDKKaLM4QCzh    [metal]  \n",
       "5  49e7b4d2-3772-4301-ba25-3cc46ceb342e  4Q1w4Ryyi8KNxxaFlOQClK    [metal]  "
      ]
     },
     "execution_count": 25,
     "metadata": {},
     "output_type": "execute_result"
    }
   ],
   "source": [
    "songs.head()\n"
   ]
  },
  {
   "cell_type": "code",
   "execution_count": 26,
   "id": "0130dc67",
   "metadata": {},
   "outputs": [],
   "source": [
    "#concatinating the columns artist,seeds,genre to create a new column tags\n",
    "songs['tags']= songs['artist'] + songs['seeds'] + songs['genre']"
   ]
  },
  {
   "cell_type": "code",
   "execution_count": 27,
   "id": "3111b553",
   "metadata": {},
   "outputs": [
    {
     "data": {
      "text/html": [
       "<div>\n",
       "<style scoped>\n",
       "    .dataframe tbody tr th:only-of-type {\n",
       "        vertical-align: middle;\n",
       "    }\n",
       "\n",
       "    .dataframe tbody tr th {\n",
       "        vertical-align: top;\n",
       "    }\n",
       "\n",
       "    .dataframe thead th {\n",
       "        text-align: right;\n",
       "    }\n",
       "</style>\n",
       "<table border=\"1\" class=\"dataframe\">\n",
       "  <thead>\n",
       "    <tr style=\"text-align: right;\">\n",
       "      <th></th>\n",
       "      <th>lastfm_url</th>\n",
       "      <th>track</th>\n",
       "      <th>artist</th>\n",
       "      <th>seeds</th>\n",
       "      <th>mbid</th>\n",
       "      <th>spotify_id</th>\n",
       "      <th>genre</th>\n",
       "      <th>tags</th>\n",
       "    </tr>\n",
       "  </thead>\n",
       "  <tbody>\n",
       "    <tr>\n",
       "      <th>0</th>\n",
       "      <td>https://www.last.fm/music/eminem/_/%2527till%2...</td>\n",
       "      <td>'Till I Collapse</td>\n",
       "      <td>[Eminem]</td>\n",
       "      <td>[aggressive]</td>\n",
       "      <td>cab93def-26c5-4fb0-bedd-26ec4c1619e1</td>\n",
       "      <td>4xkOaSrkexMciUUogZKVTS</td>\n",
       "      <td>[rap]</td>\n",
       "      <td>[Eminem, aggressive, rap]</td>\n",
       "    </tr>\n",
       "    <tr>\n",
       "      <th>1</th>\n",
       "      <td>https://www.last.fm/music/metallica/_/st.%2banger</td>\n",
       "      <td>St. Anger</td>\n",
       "      <td>[Metallica]</td>\n",
       "      <td>[aggressive]</td>\n",
       "      <td>727a2529-7ee8-4860-aef6-7959884895cb</td>\n",
       "      <td>3fOc9x06lKJBhz435mInlH</td>\n",
       "      <td>[metal]</td>\n",
       "      <td>[Metallica, aggressive, metal]</td>\n",
       "    </tr>\n",
       "    <tr>\n",
       "      <th>3</th>\n",
       "      <td>https://www.last.fm/music/m.i.a./_/bamboo%2bbanga</td>\n",
       "      <td>Bamboo Banga</td>\n",
       "      <td>[M.I.A.]</td>\n",
       "      <td>[aggressive, fun, sexy, energetic]</td>\n",
       "      <td>99dd2c8c-e7c1-413e-8ea4-4497a00ffa18</td>\n",
       "      <td>6tqFC1DIOphJkCwrjVzPmg</td>\n",
       "      <td>[hip-hop]</td>\n",
       "      <td>[M.I.A., aggressive, fun, sexy, energetic, hip...</td>\n",
       "    </tr>\n",
       "    <tr>\n",
       "      <th>4</th>\n",
       "      <td>https://www.last.fm/music/dope/_/die%2bmf%2bdie</td>\n",
       "      <td>Die MF Die</td>\n",
       "      <td>[Dope]</td>\n",
       "      <td>[aggressive]</td>\n",
       "      <td>b9eb3484-5e0e-4690-ab5a-ca91937032a5</td>\n",
       "      <td>5bU4KX47KqtDKKaLM4QCzh</td>\n",
       "      <td>[metal]</td>\n",
       "      <td>[Dope, aggressive, metal]</td>\n",
       "    </tr>\n",
       "    <tr>\n",
       "      <th>5</th>\n",
       "      <td>https://www.last.fm/music/drowning%2bpool/_/st...</td>\n",
       "      <td>Step Up</td>\n",
       "      <td>[DrowningPool]</td>\n",
       "      <td>[aggressive]</td>\n",
       "      <td>49e7b4d2-3772-4301-ba25-3cc46ceb342e</td>\n",
       "      <td>4Q1w4Ryyi8KNxxaFlOQClK</td>\n",
       "      <td>[metal]</td>\n",
       "      <td>[DrowningPool, aggressive, metal]</td>\n",
       "    </tr>\n",
       "  </tbody>\n",
       "</table>\n",
       "</div>"
      ],
      "text/plain": [
       "                                          lastfm_url             track  \\\n",
       "0  https://www.last.fm/music/eminem/_/%2527till%2...  'Till I Collapse   \n",
       "1  https://www.last.fm/music/metallica/_/st.%2banger         St. Anger   \n",
       "3  https://www.last.fm/music/m.i.a./_/bamboo%2bbanga      Bamboo Banga   \n",
       "4    https://www.last.fm/music/dope/_/die%2bmf%2bdie        Die MF Die   \n",
       "5  https://www.last.fm/music/drowning%2bpool/_/st...           Step Up   \n",
       "\n",
       "           artist                               seeds  \\\n",
       "0        [Eminem]                        [aggressive]   \n",
       "1     [Metallica]                        [aggressive]   \n",
       "3        [M.I.A.]  [aggressive, fun, sexy, energetic]   \n",
       "4          [Dope]                        [aggressive]   \n",
       "5  [DrowningPool]                        [aggressive]   \n",
       "\n",
       "                                   mbid              spotify_id      genre  \\\n",
       "0  cab93def-26c5-4fb0-bedd-26ec4c1619e1  4xkOaSrkexMciUUogZKVTS      [rap]   \n",
       "1  727a2529-7ee8-4860-aef6-7959884895cb  3fOc9x06lKJBhz435mInlH    [metal]   \n",
       "3  99dd2c8c-e7c1-413e-8ea4-4497a00ffa18  6tqFC1DIOphJkCwrjVzPmg  [hip-hop]   \n",
       "4  b9eb3484-5e0e-4690-ab5a-ca91937032a5  5bU4KX47KqtDKKaLM4QCzh    [metal]   \n",
       "5  49e7b4d2-3772-4301-ba25-3cc46ceb342e  4Q1w4Ryyi8KNxxaFlOQClK    [metal]   \n",
       "\n",
       "                                                tags  \n",
       "0                          [Eminem, aggressive, rap]  \n",
       "1                     [Metallica, aggressive, metal]  \n",
       "3  [M.I.A., aggressive, fun, sexy, energetic, hip...  \n",
       "4                          [Dope, aggressive, metal]  \n",
       "5                  [DrowningPool, aggressive, metal]  "
      ]
     },
     "execution_count": 27,
     "metadata": {},
     "output_type": "execute_result"
    }
   ],
   "source": [
    "songs.head()"
   ]
  },
  {
   "cell_type": "code",
   "execution_count": 28,
   "id": "0fd95af6",
   "metadata": {},
   "outputs": [],
   "source": [
    "#creating a new dataframe with only needed columns\n",
    "new_df = songs[['lastfm_url','track','mbid','spotify_id','tags']]"
   ]
  },
  {
   "cell_type": "code",
   "execution_count": 29,
   "id": "e1d464e9",
   "metadata": {},
   "outputs": [
    {
     "data": {
      "text/html": [
       "<div>\n",
       "<style scoped>\n",
       "    .dataframe tbody tr th:only-of-type {\n",
       "        vertical-align: middle;\n",
       "    }\n",
       "\n",
       "    .dataframe tbody tr th {\n",
       "        vertical-align: top;\n",
       "    }\n",
       "\n",
       "    .dataframe thead th {\n",
       "        text-align: right;\n",
       "    }\n",
       "</style>\n",
       "<table border=\"1\" class=\"dataframe\">\n",
       "  <thead>\n",
       "    <tr style=\"text-align: right;\">\n",
       "      <th></th>\n",
       "      <th>lastfm_url</th>\n",
       "      <th>track</th>\n",
       "      <th>mbid</th>\n",
       "      <th>spotify_id</th>\n",
       "      <th>tags</th>\n",
       "    </tr>\n",
       "  </thead>\n",
       "  <tbody>\n",
       "    <tr>\n",
       "      <th>0</th>\n",
       "      <td>https://www.last.fm/music/eminem/_/%2527till%2...</td>\n",
       "      <td>'Till I Collapse</td>\n",
       "      <td>cab93def-26c5-4fb0-bedd-26ec4c1619e1</td>\n",
       "      <td>4xkOaSrkexMciUUogZKVTS</td>\n",
       "      <td>[Eminem, aggressive, rap]</td>\n",
       "    </tr>\n",
       "    <tr>\n",
       "      <th>1</th>\n",
       "      <td>https://www.last.fm/music/metallica/_/st.%2banger</td>\n",
       "      <td>St. Anger</td>\n",
       "      <td>727a2529-7ee8-4860-aef6-7959884895cb</td>\n",
       "      <td>3fOc9x06lKJBhz435mInlH</td>\n",
       "      <td>[Metallica, aggressive, metal]</td>\n",
       "    </tr>\n",
       "    <tr>\n",
       "      <th>3</th>\n",
       "      <td>https://www.last.fm/music/m.i.a./_/bamboo%2bbanga</td>\n",
       "      <td>Bamboo Banga</td>\n",
       "      <td>99dd2c8c-e7c1-413e-8ea4-4497a00ffa18</td>\n",
       "      <td>6tqFC1DIOphJkCwrjVzPmg</td>\n",
       "      <td>[M.I.A., aggressive, fun, sexy, energetic, hip...</td>\n",
       "    </tr>\n",
       "    <tr>\n",
       "      <th>4</th>\n",
       "      <td>https://www.last.fm/music/dope/_/die%2bmf%2bdie</td>\n",
       "      <td>Die MF Die</td>\n",
       "      <td>b9eb3484-5e0e-4690-ab5a-ca91937032a5</td>\n",
       "      <td>5bU4KX47KqtDKKaLM4QCzh</td>\n",
       "      <td>[Dope, aggressive, metal]</td>\n",
       "    </tr>\n",
       "    <tr>\n",
       "      <th>5</th>\n",
       "      <td>https://www.last.fm/music/drowning%2bpool/_/st...</td>\n",
       "      <td>Step Up</td>\n",
       "      <td>49e7b4d2-3772-4301-ba25-3cc46ceb342e</td>\n",
       "      <td>4Q1w4Ryyi8KNxxaFlOQClK</td>\n",
       "      <td>[DrowningPool, aggressive, metal]</td>\n",
       "    </tr>\n",
       "    <tr>\n",
       "      <th>...</th>\n",
       "      <td>...</td>\n",
       "      <td>...</td>\n",
       "      <td>...</td>\n",
       "      <td>...</td>\n",
       "      <td>...</td>\n",
       "    </tr>\n",
       "    <tr>\n",
       "      <th>6993</th>\n",
       "      <td>https://www.last.fm/music/scott%2bwalker/_/sle...</td>\n",
       "      <td>Sleepwalkers Woman</td>\n",
       "      <td>0a795e6c-16f4-4086-b7d1-cecfd0c6eec3</td>\n",
       "      <td>6eEZtbZJ2yDV1dxSnGZZ6u</td>\n",
       "      <td>[ScottWalker, ominous, delicate, singer-songwr...</td>\n",
       "    </tr>\n",
       "    <tr>\n",
       "      <th>6994</th>\n",
       "      <td>https://www.last.fm/music/a%2bcertain%2bratio/...</td>\n",
       "      <td>Forced Laugh</td>\n",
       "      <td>32a8ad72-a5bc-4662-a879-d96b702e6106</td>\n",
       "      <td>1u0ULzJKOxSqFHObkbxnXq</td>\n",
       "      <td>[ACertainRatio, ominous, post-punk]</td>\n",
       "    </tr>\n",
       "    <tr>\n",
       "      <th>6996</th>\n",
       "      <td>https://www.last.fm/music/nadja/_/numb</td>\n",
       "      <td>Numb</td>\n",
       "      <td>6466d0af-33ec-4c62-a49f-df56d75d8672</td>\n",
       "      <td>2wAofrYxyJqKmOILJzzhiC</td>\n",
       "      <td>[Nadja, ominous, shoegaze]</td>\n",
       "    </tr>\n",
       "    <tr>\n",
       "      <th>6998</th>\n",
       "      <td>https://www.last.fm/music/negativland/_/the%2b...</td>\n",
       "      <td>The Playboy Channel</td>\n",
       "      <td>66809424-9824-4b10-8b08-87dd11fb068b</td>\n",
       "      <td>7cFDTLtjsHcTxz4JSlexNy</td>\n",
       "      <td>[Negativland, ominous, experimental]</td>\n",
       "    </tr>\n",
       "    <tr>\n",
       "      <th>6999</th>\n",
       "      <td>https://www.last.fm/music/anoice/_/finale</td>\n",
       "      <td>finale</td>\n",
       "      <td>6a081a77-598c-4ecd-b296-4ab87e4889cd</td>\n",
       "      <td>0tCndqxpOMafkaOciHL0yQ</td>\n",
       "      <td>[Anoice, ominous, soundtrack]</td>\n",
       "    </tr>\n",
       "  </tbody>\n",
       "</table>\n",
       "<p>3603 rows × 5 columns</p>\n",
       "</div>"
      ],
      "text/plain": [
       "                                             lastfm_url                track  \\\n",
       "0     https://www.last.fm/music/eminem/_/%2527till%2...     'Till I Collapse   \n",
       "1     https://www.last.fm/music/metallica/_/st.%2banger            St. Anger   \n",
       "3     https://www.last.fm/music/m.i.a./_/bamboo%2bbanga         Bamboo Banga   \n",
       "4       https://www.last.fm/music/dope/_/die%2bmf%2bdie           Die MF Die   \n",
       "5     https://www.last.fm/music/drowning%2bpool/_/st...              Step Up   \n",
       "...                                                 ...                  ...   \n",
       "6993  https://www.last.fm/music/scott%2bwalker/_/sle...   Sleepwalkers Woman   \n",
       "6994  https://www.last.fm/music/a%2bcertain%2bratio/...         Forced Laugh   \n",
       "6996             https://www.last.fm/music/nadja/_/numb                 Numb   \n",
       "6998  https://www.last.fm/music/negativland/_/the%2b...  The Playboy Channel   \n",
       "6999          https://www.last.fm/music/anoice/_/finale               finale   \n",
       "\n",
       "                                      mbid              spotify_id  \\\n",
       "0     cab93def-26c5-4fb0-bedd-26ec4c1619e1  4xkOaSrkexMciUUogZKVTS   \n",
       "1     727a2529-7ee8-4860-aef6-7959884895cb  3fOc9x06lKJBhz435mInlH   \n",
       "3     99dd2c8c-e7c1-413e-8ea4-4497a00ffa18  6tqFC1DIOphJkCwrjVzPmg   \n",
       "4     b9eb3484-5e0e-4690-ab5a-ca91937032a5  5bU4KX47KqtDKKaLM4QCzh   \n",
       "5     49e7b4d2-3772-4301-ba25-3cc46ceb342e  4Q1w4Ryyi8KNxxaFlOQClK   \n",
       "...                                    ...                     ...   \n",
       "6993  0a795e6c-16f4-4086-b7d1-cecfd0c6eec3  6eEZtbZJ2yDV1dxSnGZZ6u   \n",
       "6994  32a8ad72-a5bc-4662-a879-d96b702e6106  1u0ULzJKOxSqFHObkbxnXq   \n",
       "6996  6466d0af-33ec-4c62-a49f-df56d75d8672  2wAofrYxyJqKmOILJzzhiC   \n",
       "6998  66809424-9824-4b10-8b08-87dd11fb068b  7cFDTLtjsHcTxz4JSlexNy   \n",
       "6999  6a081a77-598c-4ecd-b296-4ab87e4889cd  0tCndqxpOMafkaOciHL0yQ   \n",
       "\n",
       "                                                   tags  \n",
       "0                             [Eminem, aggressive, rap]  \n",
       "1                        [Metallica, aggressive, metal]  \n",
       "3     [M.I.A., aggressive, fun, sexy, energetic, hip...  \n",
       "4                             [Dope, aggressive, metal]  \n",
       "5                     [DrowningPool, aggressive, metal]  \n",
       "...                                                 ...  \n",
       "6993  [ScottWalker, ominous, delicate, singer-songwr...  \n",
       "6994                [ACertainRatio, ominous, post-punk]  \n",
       "6996                         [Nadja, ominous, shoegaze]  \n",
       "6998               [Negativland, ominous, experimental]  \n",
       "6999                      [Anoice, ominous, soundtrack]  \n",
       "\n",
       "[3603 rows x 5 columns]"
      ]
     },
     "execution_count": 29,
     "metadata": {},
     "output_type": "execute_result"
    }
   ],
   "source": [
    "new_df"
   ]
  },
  {
   "cell_type": "code",
   "execution_count": 30,
   "id": "7e5ef4d0",
   "metadata": {},
   "outputs": [
    {
     "name": "stderr",
     "output_type": "stream",
     "text": [
      "C:\\Users\\resha\\AppData\\Local\\Temp\\ipykernel_8536\\3653168492.py:2: SettingWithCopyWarning: \n",
      "A value is trying to be set on a copy of a slice from a DataFrame.\n",
      "Try using .loc[row_indexer,col_indexer] = value instead\n",
      "\n",
      "See the caveats in the documentation: https://pandas.pydata.org/pandas-docs/stable/user_guide/indexing.html#returning-a-view-versus-a-copy\n",
      "  new_df['tags'] = new_df['tags'].apply(lambda x:\" \".join(x))\n"
     ]
    }
   ],
   "source": [
    "#converting tags into string\n",
    "new_df['tags'] = new_df['tags'].apply(lambda x:\" \".join(x))"
   ]
  },
  {
   "cell_type": "code",
   "execution_count": 31,
   "id": "5037e1b2",
   "metadata": {},
   "outputs": [
    {
     "data": {
      "text/html": [
       "<div>\n",
       "<style scoped>\n",
       "    .dataframe tbody tr th:only-of-type {\n",
       "        vertical-align: middle;\n",
       "    }\n",
       "\n",
       "    .dataframe tbody tr th {\n",
       "        vertical-align: top;\n",
       "    }\n",
       "\n",
       "    .dataframe thead th {\n",
       "        text-align: right;\n",
       "    }\n",
       "</style>\n",
       "<table border=\"1\" class=\"dataframe\">\n",
       "  <thead>\n",
       "    <tr style=\"text-align: right;\">\n",
       "      <th></th>\n",
       "      <th>lastfm_url</th>\n",
       "      <th>track</th>\n",
       "      <th>mbid</th>\n",
       "      <th>spotify_id</th>\n",
       "      <th>tags</th>\n",
       "    </tr>\n",
       "  </thead>\n",
       "  <tbody>\n",
       "    <tr>\n",
       "      <th>0</th>\n",
       "      <td>https://www.last.fm/music/eminem/_/%2527till%2...</td>\n",
       "      <td>'Till I Collapse</td>\n",
       "      <td>cab93def-26c5-4fb0-bedd-26ec4c1619e1</td>\n",
       "      <td>4xkOaSrkexMciUUogZKVTS</td>\n",
       "      <td>Eminem aggressive rap</td>\n",
       "    </tr>\n",
       "    <tr>\n",
       "      <th>1</th>\n",
       "      <td>https://www.last.fm/music/metallica/_/st.%2banger</td>\n",
       "      <td>St. Anger</td>\n",
       "      <td>727a2529-7ee8-4860-aef6-7959884895cb</td>\n",
       "      <td>3fOc9x06lKJBhz435mInlH</td>\n",
       "      <td>Metallica aggressive metal</td>\n",
       "    </tr>\n",
       "    <tr>\n",
       "      <th>3</th>\n",
       "      <td>https://www.last.fm/music/m.i.a./_/bamboo%2bbanga</td>\n",
       "      <td>Bamboo Banga</td>\n",
       "      <td>99dd2c8c-e7c1-413e-8ea4-4497a00ffa18</td>\n",
       "      <td>6tqFC1DIOphJkCwrjVzPmg</td>\n",
       "      <td>M.I.A. aggressive fun sexy energetic hip-hop</td>\n",
       "    </tr>\n",
       "    <tr>\n",
       "      <th>4</th>\n",
       "      <td>https://www.last.fm/music/dope/_/die%2bmf%2bdie</td>\n",
       "      <td>Die MF Die</td>\n",
       "      <td>b9eb3484-5e0e-4690-ab5a-ca91937032a5</td>\n",
       "      <td>5bU4KX47KqtDKKaLM4QCzh</td>\n",
       "      <td>Dope aggressive metal</td>\n",
       "    </tr>\n",
       "    <tr>\n",
       "      <th>5</th>\n",
       "      <td>https://www.last.fm/music/drowning%2bpool/_/st...</td>\n",
       "      <td>Step Up</td>\n",
       "      <td>49e7b4d2-3772-4301-ba25-3cc46ceb342e</td>\n",
       "      <td>4Q1w4Ryyi8KNxxaFlOQClK</td>\n",
       "      <td>DrowningPool aggressive metal</td>\n",
       "    </tr>\n",
       "  </tbody>\n",
       "</table>\n",
       "</div>"
      ],
      "text/plain": [
       "                                          lastfm_url             track  \\\n",
       "0  https://www.last.fm/music/eminem/_/%2527till%2...  'Till I Collapse   \n",
       "1  https://www.last.fm/music/metallica/_/st.%2banger         St. Anger   \n",
       "3  https://www.last.fm/music/m.i.a./_/bamboo%2bbanga      Bamboo Banga   \n",
       "4    https://www.last.fm/music/dope/_/die%2bmf%2bdie        Die MF Die   \n",
       "5  https://www.last.fm/music/drowning%2bpool/_/st...           Step Up   \n",
       "\n",
       "                                   mbid              spotify_id  \\\n",
       "0  cab93def-26c5-4fb0-bedd-26ec4c1619e1  4xkOaSrkexMciUUogZKVTS   \n",
       "1  727a2529-7ee8-4860-aef6-7959884895cb  3fOc9x06lKJBhz435mInlH   \n",
       "3  99dd2c8c-e7c1-413e-8ea4-4497a00ffa18  6tqFC1DIOphJkCwrjVzPmg   \n",
       "4  b9eb3484-5e0e-4690-ab5a-ca91937032a5  5bU4KX47KqtDKKaLM4QCzh   \n",
       "5  49e7b4d2-3772-4301-ba25-3cc46ceb342e  4Q1w4Ryyi8KNxxaFlOQClK   \n",
       "\n",
       "                                           tags  \n",
       "0                         Eminem aggressive rap  \n",
       "1                    Metallica aggressive metal  \n",
       "3  M.I.A. aggressive fun sexy energetic hip-hop  \n",
       "4                         Dope aggressive metal  \n",
       "5                 DrowningPool aggressive metal  "
      ]
     },
     "execution_count": 31,
     "metadata": {},
     "output_type": "execute_result"
    }
   ],
   "source": [
    "new_df.head()"
   ]
  },
  {
   "cell_type": "code",
   "execution_count": 32,
   "id": "e5eae487",
   "metadata": {},
   "outputs": [
    {
     "data": {
      "text/plain": [
       "'LambofGod aggressive metalcore'"
      ]
     },
     "execution_count": 32,
     "metadata": {},
     "output_type": "execute_result"
    }
   ],
   "source": [
    "new_df['tags'][15]"
   ]
  },
  {
   "cell_type": "code",
   "execution_count": 33,
   "id": "0774730d",
   "metadata": {},
   "outputs": [
    {
     "name": "stderr",
     "output_type": "stream",
     "text": [
      "C:\\Users\\resha\\AppData\\Local\\Temp\\ipykernel_8536\\289656188.py:2: SettingWithCopyWarning: \n",
      "A value is trying to be set on a copy of a slice from a DataFrame.\n",
      "Try using .loc[row_indexer,col_indexer] = value instead\n",
      "\n",
      "See the caveats in the documentation: https://pandas.pydata.org/pandas-docs/stable/user_guide/indexing.html#returning-a-view-versus-a-copy\n",
      "  new_df['tags'] = new_df['tags'].apply(lambda x:x.lower())\n"
     ]
    }
   ],
   "source": [
    "#converting to lower case\n",
    "new_df['tags'] = new_df['tags'].apply(lambda x:x.lower())"
   ]
  },
  {
   "cell_type": "code",
   "execution_count": 34,
   "id": "2d1b3a33",
   "metadata": {},
   "outputs": [
    {
     "data": {
      "text/html": [
       "<div>\n",
       "<style scoped>\n",
       "    .dataframe tbody tr th:only-of-type {\n",
       "        vertical-align: middle;\n",
       "    }\n",
       "\n",
       "    .dataframe tbody tr th {\n",
       "        vertical-align: top;\n",
       "    }\n",
       "\n",
       "    .dataframe thead th {\n",
       "        text-align: right;\n",
       "    }\n",
       "</style>\n",
       "<table border=\"1\" class=\"dataframe\">\n",
       "  <thead>\n",
       "    <tr style=\"text-align: right;\">\n",
       "      <th></th>\n",
       "      <th>lastfm_url</th>\n",
       "      <th>track</th>\n",
       "      <th>mbid</th>\n",
       "      <th>spotify_id</th>\n",
       "      <th>tags</th>\n",
       "    </tr>\n",
       "  </thead>\n",
       "  <tbody>\n",
       "    <tr>\n",
       "      <th>0</th>\n",
       "      <td>https://www.last.fm/music/eminem/_/%2527till%2...</td>\n",
       "      <td>'Till I Collapse</td>\n",
       "      <td>cab93def-26c5-4fb0-bedd-26ec4c1619e1</td>\n",
       "      <td>4xkOaSrkexMciUUogZKVTS</td>\n",
       "      <td>eminem aggressive rap</td>\n",
       "    </tr>\n",
       "    <tr>\n",
       "      <th>1</th>\n",
       "      <td>https://www.last.fm/music/metallica/_/st.%2banger</td>\n",
       "      <td>St. Anger</td>\n",
       "      <td>727a2529-7ee8-4860-aef6-7959884895cb</td>\n",
       "      <td>3fOc9x06lKJBhz435mInlH</td>\n",
       "      <td>metallica aggressive metal</td>\n",
       "    </tr>\n",
       "    <tr>\n",
       "      <th>3</th>\n",
       "      <td>https://www.last.fm/music/m.i.a./_/bamboo%2bbanga</td>\n",
       "      <td>Bamboo Banga</td>\n",
       "      <td>99dd2c8c-e7c1-413e-8ea4-4497a00ffa18</td>\n",
       "      <td>6tqFC1DIOphJkCwrjVzPmg</td>\n",
       "      <td>m.i.a. aggressive fun sexy energetic hip-hop</td>\n",
       "    </tr>\n",
       "    <tr>\n",
       "      <th>4</th>\n",
       "      <td>https://www.last.fm/music/dope/_/die%2bmf%2bdie</td>\n",
       "      <td>Die MF Die</td>\n",
       "      <td>b9eb3484-5e0e-4690-ab5a-ca91937032a5</td>\n",
       "      <td>5bU4KX47KqtDKKaLM4QCzh</td>\n",
       "      <td>dope aggressive metal</td>\n",
       "    </tr>\n",
       "    <tr>\n",
       "      <th>5</th>\n",
       "      <td>https://www.last.fm/music/drowning%2bpool/_/st...</td>\n",
       "      <td>Step Up</td>\n",
       "      <td>49e7b4d2-3772-4301-ba25-3cc46ceb342e</td>\n",
       "      <td>4Q1w4Ryyi8KNxxaFlOQClK</td>\n",
       "      <td>drowningpool aggressive metal</td>\n",
       "    </tr>\n",
       "  </tbody>\n",
       "</table>\n",
       "</div>"
      ],
      "text/plain": [
       "                                          lastfm_url             track  \\\n",
       "0  https://www.last.fm/music/eminem/_/%2527till%2...  'Till I Collapse   \n",
       "1  https://www.last.fm/music/metallica/_/st.%2banger         St. Anger   \n",
       "3  https://www.last.fm/music/m.i.a./_/bamboo%2bbanga      Bamboo Banga   \n",
       "4    https://www.last.fm/music/dope/_/die%2bmf%2bdie        Die MF Die   \n",
       "5  https://www.last.fm/music/drowning%2bpool/_/st...           Step Up   \n",
       "\n",
       "                                   mbid              spotify_id  \\\n",
       "0  cab93def-26c5-4fb0-bedd-26ec4c1619e1  4xkOaSrkexMciUUogZKVTS   \n",
       "1  727a2529-7ee8-4860-aef6-7959884895cb  3fOc9x06lKJBhz435mInlH   \n",
       "3  99dd2c8c-e7c1-413e-8ea4-4497a00ffa18  6tqFC1DIOphJkCwrjVzPmg   \n",
       "4  b9eb3484-5e0e-4690-ab5a-ca91937032a5  5bU4KX47KqtDKKaLM4QCzh   \n",
       "5  49e7b4d2-3772-4301-ba25-3cc46ceb342e  4Q1w4Ryyi8KNxxaFlOQClK   \n",
       "\n",
       "                                           tags  \n",
       "0                         eminem aggressive rap  \n",
       "1                    metallica aggressive metal  \n",
       "3  m.i.a. aggressive fun sexy energetic hip-hop  \n",
       "4                         dope aggressive metal  \n",
       "5                 drowningpool aggressive metal  "
      ]
     },
     "execution_count": 34,
     "metadata": {},
     "output_type": "execute_result"
    }
   ],
   "source": [
    "new_df.head()"
   ]
  },
  {
   "cell_type": "code",
   "execution_count": 35,
   "id": "3abd425a",
   "metadata": {},
   "outputs": [],
   "source": [
    "#text vectorisation-bag of words\n",
    "from sklearn.feature_extraction.text import CountVectorizer\n",
    "cv = CountVectorizer(max_features=2500,stop_words='english')"
   ]
  },
  {
   "cell_type": "code",
   "execution_count": 36,
   "id": "0741fbd2",
   "metadata": {},
   "outputs": [],
   "source": [
    "vectors = cv.fit_transform(new_df['tags']).toarray()"
   ]
  },
  {
   "cell_type": "code",
   "execution_count": 37,
   "id": "b5b4b824",
   "metadata": {},
   "outputs": [
    {
     "data": {
      "text/plain": [
       "array([[0, 0, 0, ..., 0, 0, 0],\n",
       "       [0, 0, 0, ..., 0, 0, 0],\n",
       "       [0, 0, 0, ..., 0, 0, 0],\n",
       "       ...,\n",
       "       [0, 0, 0, ..., 0, 0, 0],\n",
       "       [0, 0, 0, ..., 0, 0, 0],\n",
       "       [0, 0, 0, ..., 0, 0, 0]], dtype=int64)"
      ]
     },
     "execution_count": 37,
     "metadata": {},
     "output_type": "execute_result"
    }
   ],
   "source": [
    "vectors"
   ]
  },
  {
   "cell_type": "code",
   "execution_count": 38,
   "id": "0b4f2f1a",
   "metadata": {},
   "outputs": [
    {
     "data": {
      "text/plain": [
       "array([0, 0, 0, ..., 0, 0, 0], dtype=int64)"
      ]
     },
     "execution_count": 38,
     "metadata": {},
     "output_type": "execute_result"
    }
   ],
   "source": [
    "vectors[0]"
   ]
  },
  {
   "cell_type": "code",
   "execution_count": 39,
   "id": "c7cbda57",
   "metadata": {},
   "outputs": [
    {
     "ename": "AttributeError",
     "evalue": "'CountVectorizer' object has no attribute 'get_feature_names'",
     "output_type": "error",
     "traceback": [
      "\u001b[1;31m---------------------------------------------------------------------------\u001b[0m",
      "\u001b[1;31mAttributeError\u001b[0m                            Traceback (most recent call last)",
      "Cell \u001b[1;32mIn[39], line 1\u001b[0m\n\u001b[1;32m----> 1\u001b[0m \u001b[43mcv\u001b[49m\u001b[38;5;241;43m.\u001b[39;49m\u001b[43mget_feature_names\u001b[49m()\n",
      "\u001b[1;31mAttributeError\u001b[0m: 'CountVectorizer' object has no attribute 'get_feature_names'"
     ]
    }
   ],
   "source": [
    "cv.get_feature_names()"
   ]
  },
  {
   "cell_type": "code",
   "execution_count": 40,
   "id": "7b0f75dc",
   "metadata": {},
   "outputs": [],
   "source": [
    "import nltk"
   ]
  },
  {
   "cell_type": "code",
   "execution_count": 41,
   "id": "3d8ba9df",
   "metadata": {},
   "outputs": [
    {
     "name": "stdout",
     "output_type": "stream",
     "text": [
      "Defaulting to user installation because normal site-packages is not writeable\n",
      "Requirement already satisfied: nltk in c:\\programdata\\anaconda3\\lib\\site-packages (3.7)\n",
      "Requirement already satisfied: joblib in c:\\programdata\\anaconda3\\lib\\site-packages (from nltk) (1.1.1)\n",
      "Requirement already satisfied: click in c:\\programdata\\anaconda3\\lib\\site-packages (from nltk) (8.0.4)\n",
      "Requirement already satisfied: tqdm in c:\\programdata\\anaconda3\\lib\\site-packages (from nltk) (4.64.1)\n",
      "Requirement already satisfied: regex>=2021.8.3 in c:\\programdata\\anaconda3\\lib\\site-packages (from nltk) (2022.7.9)\n",
      "Requirement already satisfied: colorama in c:\\programdata\\anaconda3\\lib\\site-packages (from click->nltk) (0.4.6)\n"
     ]
    }
   ],
   "source": [
    "!pip install nltk"
   ]
  },
  {
   "cell_type": "code",
   "execution_count": 42,
   "id": "7d6aad09",
   "metadata": {},
   "outputs": [],
   "source": [
    "#stemmer helps in making the word similar to one\n",
    "from nltk.stem.porter import PorterStemmer\n",
    "ps = PorterStemmer()"
   ]
  },
  {
   "cell_type": "code",
   "execution_count": 43,
   "id": "ddf4db24",
   "metadata": {},
   "outputs": [],
   "source": [
    "def stem(text):\n",
    "    y=[]\n",
    "    \n",
    "    for i in text.split():\n",
    "        y.append(ps.stem(i))\n",
    "        \n",
    "    return \" \".join(y)"
   ]
  },
  {
   "cell_type": "code",
   "execution_count": 44,
   "id": "d0921380",
   "metadata": {},
   "outputs": [
    {
     "name": "stderr",
     "output_type": "stream",
     "text": [
      "C:\\Users\\resha\\AppData\\Local\\Temp\\ipykernel_8536\\3213734980.py:1: SettingWithCopyWarning: \n",
      "A value is trying to be set on a copy of a slice from a DataFrame.\n",
      "Try using .loc[row_indexer,col_indexer] = value instead\n",
      "\n",
      "See the caveats in the documentation: https://pandas.pydata.org/pandas-docs/stable/user_guide/indexing.html#returning-a-view-versus-a-copy\n",
      "  new_df['tags'] = new_df['tags'].apply(stem)\n"
     ]
    }
   ],
   "source": [
    "new_df['tags'] = new_df['tags'].apply(stem)"
   ]
  },
  {
   "cell_type": "code",
   "execution_count": 45,
   "id": "ce6aeead",
   "metadata": {},
   "outputs": [
    {
     "data": {
      "text/plain": [
       "'lambofgod aggress metalcor'"
      ]
     },
     "execution_count": 45,
     "metadata": {},
     "output_type": "execute_result"
    }
   ],
   "source": [
    "stem('LambofGod aggressive metalcore')"
   ]
  },
  {
   "cell_type": "code",
   "execution_count": 46,
   "id": "99bab09e",
   "metadata": {},
   "outputs": [],
   "source": [
    "from sklearn.feature_extraction.text import CountVectorizer\n",
    "cv=CountVectorizer(max_features=5000,stop_words='english')"
   ]
  },
  {
   "cell_type": "code",
   "execution_count": 47,
   "id": "f3cde77a",
   "metadata": {},
   "outputs": [],
   "source": [
    "vectors = cv.fit_transform(new_df['tags']).toarray()"
   ]
  },
  {
   "cell_type": "code",
   "execution_count": 48,
   "id": "fb798d0e",
   "metadata": {},
   "outputs": [
    {
     "data": {
      "text/plain": [
       "array([[0, 0, 0, ..., 0, 0, 0],\n",
       "       [0, 0, 0, ..., 0, 0, 0],\n",
       "       [0, 0, 0, ..., 0, 0, 0],\n",
       "       ...,\n",
       "       [0, 0, 0, ..., 0, 0, 0],\n",
       "       [0, 0, 0, ..., 0, 0, 0],\n",
       "       [0, 0, 0, ..., 0, 0, 0]], dtype=int64)"
      ]
     },
     "execution_count": 48,
     "metadata": {},
     "output_type": "execute_result"
    }
   ],
   "source": [
    "vectors"
   ]
  },
  {
   "cell_type": "code",
   "execution_count": 49,
   "id": "61c466b9",
   "metadata": {},
   "outputs": [
    {
     "data": {
      "text/plain": [
       "array([0, 0, 0, ..., 0, 0, 0], dtype=int64)"
      ]
     },
     "execution_count": 49,
     "metadata": {},
     "output_type": "execute_result"
    }
   ],
   "source": [
    "vectors[0]"
   ]
  },
  {
   "cell_type": "code",
   "execution_count": 50,
   "id": "c27a1c10",
   "metadata": {},
   "outputs": [],
   "source": [
    "from sklearn.metrics.pairwise import cosine_similarity"
   ]
  },
  {
   "cell_type": "code",
   "execution_count": 51,
   "id": "59683c75",
   "metadata": {},
   "outputs": [
    {
     "data": {
      "text/plain": [
       "(3603, 3603)"
      ]
     },
     "execution_count": 51,
     "metadata": {},
     "output_type": "execute_result"
    }
   ],
   "source": [
    "cosine_similarity(vectors).shape"
   ]
  },
  {
   "cell_type": "code",
   "execution_count": 52,
   "id": "4157095b",
   "metadata": {},
   "outputs": [],
   "source": [
    "similarity = cosine_similarity(vectors)"
   ]
  },
  {
   "cell_type": "code",
   "execution_count": 53,
   "id": "7821777d",
   "metadata": {},
   "outputs": [
    {
     "data": {
      "text/plain": [
       "array([[1.        , 0.33333333, 0.23570226, ..., 0.        , 0.        ,\n",
       "        0.        ],\n",
       "       [0.33333333, 1.        , 0.23570226, ..., 0.        , 0.        ,\n",
       "        0.        ],\n",
       "       [0.23570226, 0.23570226, 1.        , ..., 0.        , 0.        ,\n",
       "        0.        ],\n",
       "       ...,\n",
       "       [0.        , 0.        , 0.        , ..., 1.        , 0.33333333,\n",
       "        0.33333333],\n",
       "       [0.        , 0.        , 0.        , ..., 0.33333333, 1.        ,\n",
       "        0.33333333],\n",
       "       [0.        , 0.        , 0.        , ..., 0.33333333, 0.33333333,\n",
       "        1.        ]])"
      ]
     },
     "execution_count": 53,
     "metadata": {},
     "output_type": "execute_result"
    }
   ],
   "source": [
    "similarity"
   ]
  },
  {
   "cell_type": "code",
   "execution_count": 54,
   "id": "564d0698",
   "metadata": {},
   "outputs": [
    {
     "data": {
      "text/plain": [
       "(3603, 3603)"
      ]
     },
     "execution_count": 54,
     "metadata": {},
     "output_type": "execute_result"
    }
   ],
   "source": [
    "similarity.shape"
   ]
  },
  {
   "cell_type": "code",
   "execution_count": 55,
   "id": "784ef030",
   "metadata": {},
   "outputs": [
    {
     "data": {
      "text/plain": [
       "[(48, 0.6666666666666669),\n",
       " (121, 0.6666666666666669),\n",
       " (257, 0.6666666666666669),\n",
       " (258, 0.6666666666666669),\n",
       " (272, 0.6666666666666669),\n",
       " (335, 0.6666666666666669),\n",
       " (406, 0.6666666666666669),\n",
       " (602, 0.6666666666666669),\n",
       " (726, 0.6666666666666669),\n",
       " (737, 0.6666666666666669),\n",
       " (197, 0.5163977794943223),\n",
       " (757, 0.4714045207910318),\n",
       " (206, 0.408248290463863),\n",
       " (1, 0.3333333333333334),\n",
       " (3, 0.3333333333333334),\n",
       " (4, 0.3333333333333334),\n",
       " (7, 0.3333333333333334),\n",
       " (8, 0.3333333333333334),\n",
       " (13, 0.3333333333333334)]"
      ]
     },
     "execution_count": 55,
     "metadata": {},
     "output_type": "execute_result"
    }
   ],
   "source": [
    "sorted(list(enumerate(similarity[0])),reverse=True,key=lambda x:x[1])[1:20]"
   ]
  },
  {
   "cell_type": "code",
   "execution_count": 56,
   "id": "6eaeffed",
   "metadata": {},
   "outputs": [],
   "source": [
    "def recommend(song):\n",
    "    song_index = new_df[new_df['track'] == song].index[0]\n",
    "    distances = similarity[song_index]\n",
    "    songs_list = sorted(list(enumerate(distances)),reverse=True,key=lambda x:x[1])[1:6]\n",
    "    \n",
    "    for i in songs_list:\n",
    "        print(new_df.iloc[i[0]].track)\n",
    "    \n",
    "    "
   ]
  },
  {
   "cell_type": "code",
   "execution_count": 57,
   "id": "48336762",
   "metadata": {},
   "outputs": [
    {
     "data": {
      "text/html": [
       "<div>\n",
       "<style scoped>\n",
       "    .dataframe tbody tr th:only-of-type {\n",
       "        vertical-align: middle;\n",
       "    }\n",
       "\n",
       "    .dataframe tbody tr th {\n",
       "        vertical-align: top;\n",
       "    }\n",
       "\n",
       "    .dataframe thead th {\n",
       "        text-align: right;\n",
       "    }\n",
       "</style>\n",
       "<table border=\"1\" class=\"dataframe\">\n",
       "  <thead>\n",
       "    <tr style=\"text-align: right;\">\n",
       "      <th></th>\n",
       "      <th>lastfm_url</th>\n",
       "      <th>track</th>\n",
       "      <th>mbid</th>\n",
       "      <th>spotify_id</th>\n",
       "      <th>tags</th>\n",
       "    </tr>\n",
       "  </thead>\n",
       "  <tbody>\n",
       "    <tr>\n",
       "      <th>0</th>\n",
       "      <td>https://www.last.fm/music/eminem/_/%2527till%2...</td>\n",
       "      <td>'Till I Collapse</td>\n",
       "      <td>cab93def-26c5-4fb0-bedd-26ec4c1619e1</td>\n",
       "      <td>4xkOaSrkexMciUUogZKVTS</td>\n",
       "      <td>eminem aggress rap</td>\n",
       "    </tr>\n",
       "    <tr>\n",
       "      <th>1</th>\n",
       "      <td>https://www.last.fm/music/metallica/_/st.%2banger</td>\n",
       "      <td>St. Anger</td>\n",
       "      <td>727a2529-7ee8-4860-aef6-7959884895cb</td>\n",
       "      <td>3fOc9x06lKJBhz435mInlH</td>\n",
       "      <td>metallica aggress metal</td>\n",
       "    </tr>\n",
       "    <tr>\n",
       "      <th>3</th>\n",
       "      <td>https://www.last.fm/music/m.i.a./_/bamboo%2bbanga</td>\n",
       "      <td>Bamboo Banga</td>\n",
       "      <td>99dd2c8c-e7c1-413e-8ea4-4497a00ffa18</td>\n",
       "      <td>6tqFC1DIOphJkCwrjVzPmg</td>\n",
       "      <td>m.i.a. aggress fun sexi energet hip-hop</td>\n",
       "    </tr>\n",
       "    <tr>\n",
       "      <th>4</th>\n",
       "      <td>https://www.last.fm/music/dope/_/die%2bmf%2bdie</td>\n",
       "      <td>Die MF Die</td>\n",
       "      <td>b9eb3484-5e0e-4690-ab5a-ca91937032a5</td>\n",
       "      <td>5bU4KX47KqtDKKaLM4QCzh</td>\n",
       "      <td>dope aggress metal</td>\n",
       "    </tr>\n",
       "    <tr>\n",
       "      <th>5</th>\n",
       "      <td>https://www.last.fm/music/drowning%2bpool/_/st...</td>\n",
       "      <td>Step Up</td>\n",
       "      <td>49e7b4d2-3772-4301-ba25-3cc46ceb342e</td>\n",
       "      <td>4Q1w4Ryyi8KNxxaFlOQClK</td>\n",
       "      <td>drowningpool aggress metal</td>\n",
       "    </tr>\n",
       "    <tr>\n",
       "      <th>...</th>\n",
       "      <td>...</td>\n",
       "      <td>...</td>\n",
       "      <td>...</td>\n",
       "      <td>...</td>\n",
       "      <td>...</td>\n",
       "    </tr>\n",
       "    <tr>\n",
       "      <th>6993</th>\n",
       "      <td>https://www.last.fm/music/scott%2bwalker/_/sle...</td>\n",
       "      <td>Sleepwalkers Woman</td>\n",
       "      <td>0a795e6c-16f4-4086-b7d1-cecfd0c6eec3</td>\n",
       "      <td>6eEZtbZJ2yDV1dxSnGZZ6u</td>\n",
       "      <td>scottwalk omin delic singer-songwrit</td>\n",
       "    </tr>\n",
       "    <tr>\n",
       "      <th>6994</th>\n",
       "      <td>https://www.last.fm/music/a%2bcertain%2bratio/...</td>\n",
       "      <td>Forced Laugh</td>\n",
       "      <td>32a8ad72-a5bc-4662-a879-d96b702e6106</td>\n",
       "      <td>1u0ULzJKOxSqFHObkbxnXq</td>\n",
       "      <td>acertainratio omin post-punk</td>\n",
       "    </tr>\n",
       "    <tr>\n",
       "      <th>6996</th>\n",
       "      <td>https://www.last.fm/music/nadja/_/numb</td>\n",
       "      <td>Numb</td>\n",
       "      <td>6466d0af-33ec-4c62-a49f-df56d75d8672</td>\n",
       "      <td>2wAofrYxyJqKmOILJzzhiC</td>\n",
       "      <td>nadja omin shoegaz</td>\n",
       "    </tr>\n",
       "    <tr>\n",
       "      <th>6998</th>\n",
       "      <td>https://www.last.fm/music/negativland/_/the%2b...</td>\n",
       "      <td>The Playboy Channel</td>\n",
       "      <td>66809424-9824-4b10-8b08-87dd11fb068b</td>\n",
       "      <td>7cFDTLtjsHcTxz4JSlexNy</td>\n",
       "      <td>negativland omin experiment</td>\n",
       "    </tr>\n",
       "    <tr>\n",
       "      <th>6999</th>\n",
       "      <td>https://www.last.fm/music/anoice/_/finale</td>\n",
       "      <td>finale</td>\n",
       "      <td>6a081a77-598c-4ecd-b296-4ab87e4889cd</td>\n",
       "      <td>0tCndqxpOMafkaOciHL0yQ</td>\n",
       "      <td>anoic omin soundtrack</td>\n",
       "    </tr>\n",
       "  </tbody>\n",
       "</table>\n",
       "<p>3603 rows × 5 columns</p>\n",
       "</div>"
      ],
      "text/plain": [
       "                                             lastfm_url                track  \\\n",
       "0     https://www.last.fm/music/eminem/_/%2527till%2...     'Till I Collapse   \n",
       "1     https://www.last.fm/music/metallica/_/st.%2banger            St. Anger   \n",
       "3     https://www.last.fm/music/m.i.a./_/bamboo%2bbanga         Bamboo Banga   \n",
       "4       https://www.last.fm/music/dope/_/die%2bmf%2bdie           Die MF Die   \n",
       "5     https://www.last.fm/music/drowning%2bpool/_/st...              Step Up   \n",
       "...                                                 ...                  ...   \n",
       "6993  https://www.last.fm/music/scott%2bwalker/_/sle...   Sleepwalkers Woman   \n",
       "6994  https://www.last.fm/music/a%2bcertain%2bratio/...         Forced Laugh   \n",
       "6996             https://www.last.fm/music/nadja/_/numb                 Numb   \n",
       "6998  https://www.last.fm/music/negativland/_/the%2b...  The Playboy Channel   \n",
       "6999          https://www.last.fm/music/anoice/_/finale               finale   \n",
       "\n",
       "                                      mbid              spotify_id  \\\n",
       "0     cab93def-26c5-4fb0-bedd-26ec4c1619e1  4xkOaSrkexMciUUogZKVTS   \n",
       "1     727a2529-7ee8-4860-aef6-7959884895cb  3fOc9x06lKJBhz435mInlH   \n",
       "3     99dd2c8c-e7c1-413e-8ea4-4497a00ffa18  6tqFC1DIOphJkCwrjVzPmg   \n",
       "4     b9eb3484-5e0e-4690-ab5a-ca91937032a5  5bU4KX47KqtDKKaLM4QCzh   \n",
       "5     49e7b4d2-3772-4301-ba25-3cc46ceb342e  4Q1w4Ryyi8KNxxaFlOQClK   \n",
       "...                                    ...                     ...   \n",
       "6993  0a795e6c-16f4-4086-b7d1-cecfd0c6eec3  6eEZtbZJ2yDV1dxSnGZZ6u   \n",
       "6994  32a8ad72-a5bc-4662-a879-d96b702e6106  1u0ULzJKOxSqFHObkbxnXq   \n",
       "6996  6466d0af-33ec-4c62-a49f-df56d75d8672  2wAofrYxyJqKmOILJzzhiC   \n",
       "6998  66809424-9824-4b10-8b08-87dd11fb068b  7cFDTLtjsHcTxz4JSlexNy   \n",
       "6999  6a081a77-598c-4ecd-b296-4ab87e4889cd  0tCndqxpOMafkaOciHL0yQ   \n",
       "\n",
       "                                         tags  \n",
       "0                          eminem aggress rap  \n",
       "1                     metallica aggress metal  \n",
       "3     m.i.a. aggress fun sexi energet hip-hop  \n",
       "4                          dope aggress metal  \n",
       "5                  drowningpool aggress metal  \n",
       "...                                       ...  \n",
       "6993     scottwalk omin delic singer-songwrit  \n",
       "6994             acertainratio omin post-punk  \n",
       "6996                       nadja omin shoegaz  \n",
       "6998              negativland omin experiment  \n",
       "6999                    anoic omin soundtrack  \n",
       "\n",
       "[3603 rows x 5 columns]"
      ]
     },
     "execution_count": 57,
     "metadata": {},
     "output_type": "execute_result"
    }
   ],
   "source": [
    "new_df"
   ]
  },
  {
   "cell_type": "code",
   "execution_count": 58,
   "id": "a7782755",
   "metadata": {},
   "outputs": [
    {
     "name": "stdout",
     "output_type": "stream",
     "text": [
      "St. Anger\n",
      "Die MF Die\n",
      "Sweet Amber\n",
      "Cuckoo for Caca\n",
      "Black\n"
     ]
    }
   ],
   "source": [
    "recommend('Die MF Die')"
   ]
  },
  {
   "cell_type": "code",
   "execution_count": 59,
   "id": "aec645c5",
   "metadata": {},
   "outputs": [
    {
     "data": {
      "text/plain": [
       "'Infection'"
      ]
     },
     "execution_count": 59,
     "metadata": {},
     "output_type": "execute_result"
    }
   ],
   "source": [
    "new_df.iloc[1216].track"
   ]
  },
  {
   "cell_type": "code",
   "execution_count": 60,
   "id": "4d11c8a8",
   "metadata": {},
   "outputs": [
    {
     "name": "stdout",
     "output_type": "stream",
     "text": [
      "St. Anger\n",
      "Step Up\n",
      "Sweet Amber\n",
      "Cuckoo for Caca\n",
      "Black\n"
     ]
    }
   ],
   "source": [
    "recommend('Bamboo Banga')"
   ]
  },
  {
   "cell_type": "code",
   "execution_count": 61,
   "id": "bfc8ec7e",
   "metadata": {},
   "outputs": [
    {
     "name": "stdout",
     "output_type": "stream",
     "text": [
      "When Girls Telephone Boys\n",
      "Custer\n",
      "Killer In You\n",
      "Glow\n",
      "Something Told Me\n"
     ]
    }
   ],
   "source": [
    "recommend('Step Up')"
   ]
  },
  {
   "cell_type": "code",
   "execution_count": 62,
   "id": "7a950027",
   "metadata": {},
   "outputs": [
    {
     "name": "stdout",
     "output_type": "stream",
     "text": [
      "I Am Hell (Sonata in C#)\n",
      "Sanctuary\n",
      "Wasting Away\n",
      "Bleak\n",
      "Destroy What Destroys You\n"
     ]
    }
   ],
   "source": [
    "recommend('Blunt After Blunt')"
   ]
  },
  {
   "cell_type": "code",
   "execution_count": 63,
   "id": "598f6d5e",
   "metadata": {},
   "outputs": [
    {
     "data": {
      "text/plain": [
       "'Blunt After Blunt'"
      ]
     },
     "execution_count": 63,
     "metadata": {},
     "output_type": "execute_result"
    }
   ],
   "source": [
    "new_df.iloc[48].track"
   ]
  },
  {
   "cell_type": "code",
   "execution_count": 64,
   "id": "a948e387",
   "metadata": {},
   "outputs": [
    {
     "name": "stdout",
     "output_type": "stream",
     "text": [
      "Lambs to the Slaughter\n",
      "Sanctuary\n",
      "A Nation On Fire\n",
      "Wasting Away\n",
      "I Am Hell (Sonata in C#)\n"
     ]
    }
   ],
   "source": [
    "recommend('Bacdafucup')"
   ]
  },
  {
   "cell_type": "code",
   "execution_count": 65,
   "id": "821e35dc",
   "metadata": {},
   "outputs": [
    {
     "name": "stdout",
     "output_type": "stream",
     "text": [
      "Shake The World\n",
      "Gänseblümchen\n",
      "Lector's Cell\n",
      "Diggin' It\n",
      "Leed's House\n"
     ]
    }
   ],
   "source": [
    "recommend('Numb')"
   ]
  },
  {
   "cell_type": "code",
   "execution_count": 67,
   "id": "483fc9d1",
   "metadata": {},
   "outputs": [
    {
     "name": "stdout",
     "output_type": "stream",
     "text": [
      "Shake The World\n",
      "Gänseblümchen\n",
      "Lector's Cell\n",
      "Diggin' It\n",
      "Leed's House\n"
     ]
    }
   ],
   "source": [
    "recommend('Numb')"
   ]
  },
  {
   "cell_type": "code",
   "execution_count": 66,
   "id": "342442d4",
   "metadata": {},
   "outputs": [
    {
     "name": "stdout",
     "output_type": "stream",
     "text": [
      "Hard\n",
      "Whatever U Like\n",
      "Rainbow\n",
      "Glam\n",
      "Strut\n"
     ]
    }
   ],
   "source": [
    "recommend('Gänseblümchen')"
   ]
  },
  {
   "cell_type": "code",
   "execution_count": 67,
   "id": "b151b25e",
   "metadata": {},
   "outputs": [],
   "source": [
    "import pickle"
   ]
  },
  {
   "cell_type": "code",
   "execution_count": 68,
   "id": "76499be4",
   "metadata": {},
   "outputs": [],
   "source": [
    "pickle.dump(new_df.to_dict(),open('song_dict.pkl','wb'))"
   ]
  },
  {
   "cell_type": "code",
   "execution_count": 69,
   "id": "6c2ebca1",
   "metadata": {},
   "outputs": [],
   "source": [
    "pickle.dump(similarity,open('similarity.pkl','wb'))"
   ]
  },
  {
   "cell_type": "code",
   "execution_count": null,
   "id": "277cfaf5",
   "metadata": {},
   "outputs": [],
   "source": []
  }
 ],
 "metadata": {
  "kernelspec": {
   "display_name": "Python 3 (ipykernel)",
   "language": "python",
   "name": "python3"
  },
  "language_info": {
   "codemirror_mode": {
    "name": "ipython",
    "version": 3
   },
   "file_extension": ".py",
   "mimetype": "text/x-python",
   "name": "python",
   "nbconvert_exporter": "python",
   "pygments_lexer": "ipython3",
   "version": "3.10.9"
  }
 },
 "nbformat": 4,
 "nbformat_minor": 5
}
